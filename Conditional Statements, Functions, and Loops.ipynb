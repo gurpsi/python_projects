{
 "cells": [
  {
   "cell_type": "markdown",
   "id": "677b1c50",
   "metadata": {},
   "source": [
    "## All in - Conditional Statements, Functions, and Loops"
   ]
  },
  {
   "cell_type": "markdown",
   "id": "3cf36e4c",
   "metadata": {},
   "source": [
    "You are provided with the 'nums' list. Complete the code in the cell that follows. Use a while loop to count the number of values lower than 20."
   ]
  },
  {
   "cell_type": "code",
   "execution_count": 1,
   "id": "24f04e3e",
   "metadata": {},
   "outputs": [],
   "source": [
    "nums = [1,35,12,24,31,51,70,100]"
   ]
  },
  {
   "cell_type": "code",
   "execution_count": 2,
   "id": "66879e61",
   "metadata": {},
   "outputs": [
    {
     "name": "stdout",
     "output_type": "stream",
     "text": [
      "2\n"
     ]
    }
   ],
   "source": [
    "total,i = 0,0\n",
    "while i < len(nums):\n",
    "    if nums[i] < 20:\n",
    "        total += 1\n",
    "        i+=1\n",
    "    i+=1\n",
    "print(total)"
   ]
  },
  {
   "cell_type": "code",
   "execution_count": 3,
   "id": "5b67e2b9",
   "metadata": {},
   "outputs": [
    {
     "data": {
      "text/plain": [
       "2"
      ]
     },
     "execution_count": 3,
     "metadata": {},
     "output_type": "execute_result"
    }
   ],
   "source": [
    "def count(numbers):\n",
    "    numbers = sorted(numbers)\n",
    "    tot = 0\n",
    "    \n",
    "    while numbers[tot] < 20:\n",
    "        tot += 1\n",
    "    return tot\n",
    "count(nums)"
   ]
  },
  {
   "cell_type": "code",
   "execution_count": null,
   "id": "9a60e829",
   "metadata": {},
   "outputs": [],
   "source": []
  }
 ],
 "metadata": {
  "kernelspec": {
   "display_name": "Python 3 (ipykernel)",
   "language": "python",
   "name": "python3"
  },
  "language_info": {
   "codemirror_mode": {
    "name": "ipython",
    "version": 3
   },
   "file_extension": ".py",
   "mimetype": "text/x-python",
   "name": "python",
   "nbconvert_exporter": "python",
   "pygments_lexer": "ipython3",
   "version": "3.9.12"
  }
 },
 "nbformat": 4,
 "nbformat_minor": 5
}
