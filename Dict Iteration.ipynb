{
 "cells": [
  {
   "cell_type": "markdown",
   "id": "6208919a",
   "metadata": {},
   "source": [
    "Calculate how much money is spent on products with a price of 5 or more."
   ]
  },
  {
   "cell_type": "code",
   "execution_count": 1,
   "id": "f2b02c47",
   "metadata": {},
   "outputs": [],
   "source": [
    "prices = {\n",
    "    \"box_of_spaghetti\" : 4,\n",
    "    \"lasagna\"  : 5,\n",
    "    \"hamburger\" : 2\n",
    "   }\n",
    "quantity = {\n",
    "    \"box_of_spaghetti\" : 6,\n",
    "    \"lasagna\"  : 10,\n",
    "    \"hamburger\" : 0\n",
    "    }\n"
   ]
  },
  {
   "cell_type": "code",
   "execution_count": 2,
   "id": "4466c1b6",
   "metadata": {},
   "outputs": [
    {
     "name": "stdout",
     "output_type": "stream",
     "text": [
      "50\n"
     ]
    }
   ],
   "source": [
    "money_spent = 0\n",
    "for i in prices:\n",
    "    if prices[i] >= 5:\n",
    "        money_spent = money_spent + (prices[i] * quantity[i])\n",
    "print(money_spent)"
   ]
  }
 ],
 "metadata": {
  "kernelspec": {
   "display_name": "Python 3 (ipykernel)",
   "language": "python",
   "name": "python3"
  },
  "language_info": {
   "codemirror_mode": {
    "name": "ipython",
    "version": 3
   },
   "file_extension": ".py",
   "mimetype": "text/x-python",
   "name": "python",
   "nbconvert_exporter": "python",
   "pygments_lexer": "ipython3",
   "version": "3.9.12"
  }
 },
 "nbformat": 4,
 "nbformat_minor": 5
}
