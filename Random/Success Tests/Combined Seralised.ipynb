{
 "cells": [
  {
   "cell_type": "code",
   "execution_count": 1,
   "metadata": {},
   "outputs": [],
   "source": [
    "import pandas as pd\n",
    "import numpy as np\n",
    "import pathlib\n",
    "import os"
   ]
  },
  {
   "cell_type": "code",
   "execution_count": 2,
   "metadata": {},
   "outputs": [],
   "source": [
    "df_train = pd.read_csv(\"training_1000.nt\",sep = ' ', header = None)\n",
    "df_unseen = pd.read_csv(\"unseen_entities_1000.txt\",sep = ' ', header = None)\n",
    "df_val = pd.read_csv(\"validation_1000.nt\",sep = ' ', header = None)\n",
    "df_test = pd.read_csv(\"test_1000.nt\",sep = ' ', header = None)\n",
    "df_aux = pd.read_csv(\"auxiliary_1000.nt\",sep = ' ', header = None)"
   ]
  },
  {
   "cell_type": "code",
   "execution_count": 3,
   "metadata": {},
   "outputs": [
    {
     "name": "stdout",
     "output_type": "stream",
     "text": [
      "df_train.shape (129743, 4)\n",
      "df_unseen.shape (1000, 1)\n",
      "df_val.shape (5000, 4)\n",
      "df_test.shape (1000, 4)\n",
      "df_aux.shape (10529, 4)\n"
     ]
    }
   ],
   "source": [
    "print(\"df_train.shape\",df_train.shape)\n",
    "print(\"df_unseen.shape\",df_unseen.shape)\n",
    "print(\"df_val.shape\",df_val.shape)\n",
    "print(\"df_test.shape\",df_test.shape)\n",
    "print(\"df_aux.shape\",df_aux.shape)"
   ]
  },
  {
   "cell_type": "code",
   "execution_count": 4,
   "metadata": {},
   "outputs": [],
   "source": [
    "def create_mappings(X):\n",
    "    unique_ent = np.unique(np.concatenate((X[:, 0], X[:, 2])))\n",
    "    unique_rel = np.unique(X[:, 1])\n",
    "    ent_count = len(unique_ent)\n",
    "    rel_count = len(unique_rel)\n",
    "    rel_to_idx = dict(zip(unique_rel, range(rel_count)))\n",
    "    ent_to_idx = dict(zip(unique_ent, range(ent_count)))\n",
    "    return rel_to_idx, ent_to_idx"
   ]
  },
  {
   "cell_type": "code",
   "execution_count": 5,
   "metadata": {},
   "outputs": [],
   "source": [
    "def to_idx(X, ent_to_idx=None, rel_to_idx=None):\n",
    "    \n",
    "    x_idx_s = np.vectorize(ent_to_idx.get)(X[:, 0])\n",
    "    x_idx_p = np.vectorize(rel_to_idx.get)(X[:, 1])\n",
    "    x_idx_o = np.vectorize(ent_to_idx.get)(X[:, 2])\n",
    "\n",
    "    return np.dstack([x_idx_s, x_idx_p, x_idx_o]).reshape((-1, 3))"
   ]
  },
  {
   "cell_type": "code",
   "execution_count": 6,
   "metadata": {},
   "outputs": [],
   "source": [
    "# def to_idx1(X, ent_to_idx=None, rel_to_idx=None):\n",
    "#     x_idx_s = np.vectorize(ent_to_idx.get)(X[:, 0])\n",
    "#     return np.dstack([x_idx_s]).reshape((-1, 1))"
   ]
  },
  {
   "cell_type": "code",
   "execution_count": 7,
   "metadata": {},
   "outputs": [],
   "source": [
    "def load_from_csv(folder_name, file_name, sep=' ', header=None):\n",
    "    df = pd.read_csv(os.path.join(path, file_name),\n",
    "                     sep=sep,\n",
    "                     header=header,\n",
    "                     names=None,\n",
    "                     dtype=str)\n",
    "\n",
    "    df = df.drop_duplicates()\n",
    "    return df.as_matrix()"
   ]
  },
  {
   "cell_type": "code",
   "execution_count": 9,
   "metadata": {},
   "outputs": [
    {
     "name": "stderr",
     "output_type": "stream",
     "text": [
      "/Users/gurpreet.ag.singh/anaconda3/lib/python3.6/site-packages/ipykernel_launcher.py:9: FutureWarning: Method .as_matrix will be removed in a future version. Use .values instead.\n",
      "  if __name__ == '__main__':\n"
     ]
    }
   ],
   "source": [
    "path = os.getcwd()\n",
    "train = load_from_csv(path,'training_1000.nt')\n",
    "aux = load_from_csv(path,'auxiliary_1000.nt')\n",
    "val = load_from_csv(path,'validation_1000.nt')\n",
    "# unseen = load_from_csv(path,'unseen_entities_1000.txt')\n",
    "test = load_from_csv(path,'test_1000.nt')"
   ]
  },
  {
   "cell_type": "code",
   "execution_count": 10,
   "metadata": {},
   "outputs": [],
   "source": [
    "vocab = np.concatenate((train,aux,val))"
   ]
  },
  {
   "cell_type": "code",
   "execution_count": 11,
   "metadata": {},
   "outputs": [],
   "source": [
    "rel_to_idx, ent_to_idx = create_mappings(vocab)\n",
    "\n",
    "train = to_idx(train , ent_to_idx, rel_to_idx)\n",
    "aux = to_idx(aux, ent_to_idx, rel_to_idx)\n",
    "val = to_idx(val, ent_to_idx, rel_to_idx)\n",
    "test = to_idx(test, ent_to_idx, rel_to_idx)"
   ]
  },
  {
   "cell_type": "code",
   "execution_count": 13,
   "metadata": {},
   "outputs": [
    {
     "name": "stdout",
     "output_type": "stream",
     "text": [
      "train.shape (129743, 3)\n",
      "val.shape (5000, 3)\n",
      "test.shape (1000, 3)\n",
      "aux.shape (10529, 3)\n"
     ]
    }
   ],
   "source": [
    "print(\"train.shape\",train.shape)\n",
    "print(\"val.shape\",val.shape)\n",
    "print(\"test.shape\",test.shape)\n",
    "print(\"aux.shape\",aux.shape)"
   ]
  },
  {
   "cell_type": "code",
   "execution_count": 14,
   "metadata": {},
   "outputs": [
    {
     "name": "stdout",
     "output_type": "stream",
     "text": [
      "A New Directory is created, named: 'Combined_Seralised'\n"
     ]
    }
   ],
   "source": [
    "path = os.getcwd()\n",
    "pathlib.Path(path+'/Combined_Seralised').mkdir(parents=True, exist_ok=True)\n",
    "print(\"A New Directory is created, named: 'Combined_Seralised'\")"
   ]
  },
  {
   "cell_type": "code",
   "execution_count": 15,
   "metadata": {},
   "outputs": [
    {
     "data": {
      "text/plain": [
       "'/Users/gurpreet.ag.singh/Desktop/dbpedia_1k_s (1)/schema and not schama'"
      ]
     },
     "execution_count": 15,
     "metadata": {},
     "output_type": "execute_result"
    }
   ],
   "source": [
    "path"
   ]
  },
  {
   "cell_type": "code",
   "execution_count": 26,
   "metadata": {},
   "outputs": [
    {
     "data": {
      "text/plain": [
       "array([[ 5952,   305, 32343],\n",
       "       [ 9267,   293, 63482],\n",
       "       [24794,   269, 72969],\n",
       "       ...,\n",
       "       [29754,   359, 44408],\n",
       "       [18976,   380, 75797],\n",
       "       [43502,    47, 43518]])"
      ]
     },
     "execution_count": 26,
     "metadata": {},
     "output_type": "execute_result"
    }
   ],
   "source": [
    "train"
   ]
  },
  {
   "cell_type": "code",
   "execution_count": 16,
   "metadata": {},
   "outputs": [],
   "source": [
    "df_train = pd.DataFrame(train,index=None, columns=None)\n",
    "df_aux = pd.DataFrame(aux,index=None, columns=None)\n",
    "df_val = pd.DataFrame(val,index=None, columns=None)\n",
    "df_test = pd.DataFrame(test,index=None, columns=None)"
   ]
  },
  {
   "cell_type": "code",
   "execution_count": 17,
   "metadata": {},
   "outputs": [
    {
     "name": "stdout",
     "output_type": "stream",
     "text": [
      "All the seralised files are now saved inside Combined_Seralised folder\n"
     ]
    }
   ],
   "source": [
    "path = os.getcwd()+'/Combined_Seralised/'\n",
    "df_train.to_csv(path+'train',sep='\\t', header=False, index=False, encoding = \"utf-8\")\n",
    "df_aux.to_csv(path+'aux',sep='\\t', header=False, index=False, encoding = \"utf-8\")\n",
    "df_val.to_csv(path+'val',sep='\\t', header=False, index=False, encoding = \"utf-8\")\n",
    "df_test.to_csv(path+'test',sep='\\t', header=False, index=False, encoding = \"utf-8\")\n",
    "\n",
    "print(\"All the seralised files are now saved inside Combined_Seralised folder\")"
   ]
  },
  {
   "cell_type": "markdown",
   "metadata": {},
   "source": [
    "## ADDING TRUE COLUMN OF 1 = TRUE in TEST AND VALIDATE"
   ]
  },
  {
   "cell_type": "code",
   "execution_count": 19,
   "metadata": {},
   "outputs": [
    {
     "data": {
      "text/plain": [
       "'/Users/gurpreet.ag.singh/Desktop/dbpedia_1k_s (1)/schema and not schama/Combined_Seralised/'"
      ]
     },
     "execution_count": 19,
     "metadata": {},
     "output_type": "execute_result"
    }
   ],
   "source": [
    "path"
   ]
  },
  {
   "cell_type": "code",
   "execution_count": 20,
   "metadata": {},
   "outputs": [],
   "source": [
    "val = np.genfromtxt(path+\"val\", dtype='int')\n",
    "test = np.genfromtxt(path+\"test\", dtype='int')"
   ]
  },
  {
   "cell_type": "code",
   "execution_count": 21,
   "metadata": {},
   "outputs": [
    {
     "name": "stdout",
     "output_type": "stream",
     "text": [
      "val shape: (5000, 3)\n",
      "test shape: (1000, 3)\n"
     ]
    }
   ],
   "source": [
    "print(\"val shape:\", val.shape)\n",
    "print(\"test shape:\", test.shape)"
   ]
  },
  {
   "cell_type": "code",
   "execution_count": 22,
   "metadata": {},
   "outputs": [],
   "source": [
    "val_ones = np.ones((5000,1), dtype=int)\n",
    "test_ones = np.ones((1000,1), dtype=int)"
   ]
  },
  {
   "cell_type": "code",
   "execution_count": 23,
   "metadata": {},
   "outputs": [],
   "source": [
    "val = np.concatenate((val,val_ones),axis=1)\n",
    "test = np.concatenate((test,test_ones),axis=1)"
   ]
  },
  {
   "cell_type": "code",
   "execution_count": 25,
   "metadata": {},
   "outputs": [],
   "source": [
    "np.savetxt('val_c', val, delimiter=\"\\t\", fmt=\"%d\") \n",
    "np.savetxt('test_trues', test, delimiter=\"\\t\", fmt=\"%d\")"
   ]
  },
  {
   "cell_type": "code",
   "execution_count": null,
   "metadata": {},
   "outputs": [],
   "source": []
  }
 ],
 "metadata": {
  "kernelspec": {
   "display_name": "Python 3",
   "language": "python",
   "name": "python3"
  },
  "language_info": {
   "codemirror_mode": {
    "name": "ipython",
    "version": 3
   },
   "file_extension": ".py",
   "mimetype": "text/x-python",
   "name": "python",
   "nbconvert_exporter": "python",
   "pygments_lexer": "ipython3",
   "version": "3.6.5"
  }
 },
 "nbformat": 4,
 "nbformat_minor": 2
}
