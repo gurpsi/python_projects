{
 "cells": [
  {
   "cell_type": "code",
   "execution_count": 2,
   "metadata": {},
   "outputs": [],
   "source": [
    "import numpy as np\n",
    "import os"
   ]
  },
  {
   "cell_type": "code",
   "execution_count": 3,
   "metadata": {},
   "outputs": [
    {
     "data": {
      "text/plain": [
       "'/Users/gurpreet.ag.singh/Desktop/dbpedia_1k_s (1)/schema and not schama/Seralised'"
      ]
     },
     "execution_count": 3,
     "metadata": {},
     "output_type": "execute_result"
    }
   ],
   "source": [
    "path = os.getcwd()\n",
    "path"
   ]
  },
  {
   "cell_type": "code",
   "execution_count": 5,
   "metadata": {},
   "outputs": [],
   "source": [
    "val_ns = np.genfromtxt(\"val_ns\", dtype='int')\n",
    "val_s = np.genfromtxt(\"val_s\", dtype='int')\n",
    "test = np.genfromtxt(\"test\", dtype='int')"
   ]
  },
  {
   "cell_type": "code",
   "execution_count": 8,
   "metadata": {
    "scrolled": true
   },
   "outputs": [
    {
     "name": "stdout",
     "output_type": "stream",
     "text": [
      "val_ns shape: (3277, 3)\n",
      "val_s shape: (1723, 3)\n",
      "test shape: (1000, 3)\n"
     ]
    }
   ],
   "source": [
    "print(\"val_ns shape:\", val_ns.shape)\n",
    "print(\"val_s shape:\", val_s.shape)\n",
    "print(\"test shape:\", test.shape)"
   ]
  },
  {
   "cell_type": "code",
   "execution_count": 9,
   "metadata": {},
   "outputs": [],
   "source": [
    "val_ns_ones = np.ones((3277,1), dtype=int)\n",
    "val_s_ones = np.ones((1723,1), dtype=int)\n",
    "test_ones = np.ones((1000,1), dtype=int)"
   ]
  },
  {
   "cell_type": "code",
   "execution_count": 13,
   "metadata": {},
   "outputs": [],
   "source": [
    "val_ns = np.concatenate((val_ns,val_ns_ones),axis=1)\n",
    "val_s = np.concatenate((val_s,val_s_ones),axis=1)\n",
    "test = np.concatenate((test,test_ones),axis=1)"
   ]
  },
  {
   "cell_type": "code",
   "execution_count": 12,
   "metadata": {},
   "outputs": [
    {
     "data": {
      "text/plain": [
       "array([[26138,   142, 54185,     1],\n",
       "       [19658,    13,  5618,     1],\n",
       "       [28082,    18, 67403,     1],\n",
       "       ...,\n",
       "       [25329,   299, 25331,     1],\n",
       "       [51581,    89, 49535,     1],\n",
       "       [20113,   193, 45131,     1]])"
      ]
     },
     "execution_count": 12,
     "metadata": {},
     "output_type": "execute_result"
    }
   ],
   "source": [
    "val_ns"
   ]
  },
  {
   "cell_type": "code",
   "execution_count": 14,
   "metadata": {},
   "outputs": [
    {
     "data": {
      "text/plain": [
       "array([[60075,   380,     7,     1],\n",
       "       [16754,   380,     7,     1],\n",
       "       [43455,   380, 75797,     1],\n",
       "       ...,\n",
       "       [69061,   380,    35,     1],\n",
       "       [21406,   380,    12,     1],\n",
       "       [64284,   380,    35,     1]])"
      ]
     },
     "execution_count": 14,
     "metadata": {},
     "output_type": "execute_result"
    }
   ],
   "source": [
    "val_s"
   ]
  },
  {
   "cell_type": "code",
   "execution_count": 15,
   "metadata": {},
   "outputs": [
    {
     "data": {
      "text/plain": [
       "array([[50276,    32, 33012,     1],\n",
       "       [37808,   279, 28351,     1],\n",
       "       [74408,   305, 15365,     1],\n",
       "       ...,\n",
       "       [32060,   293, 16957,     1],\n",
       "       [40874,   359, 74561,     1],\n",
       "       [23768,    32, 12779,     1]])"
      ]
     },
     "execution_count": 15,
     "metadata": {},
     "output_type": "execute_result"
    }
   ],
   "source": [
    "test"
   ]
  },
  {
   "cell_type": "code",
   "execution_count": 17,
   "metadata": {},
   "outputs": [],
   "source": [
    "np.savetxt('val_ns', val_ns, delimiter=\" \", fmt=\"%d\")\n",
    "np.savetxt('val_s', val_s, delimiter=\" \", fmt=\"%d\") \n",
    "np.savetxt('test', test, delimiter=\" \", fmt=\"%d\") "
   ]
  },
  {
   "cell_type": "code",
   "execution_count": null,
   "metadata": {},
   "outputs": [],
   "source": []
  }
 ],
 "metadata": {
  "kernelspec": {
   "display_name": "Python 3",
   "language": "python",
   "name": "python3"
  },
  "language_info": {
   "codemirror_mode": {
    "name": "ipython",
    "version": 3
   },
   "file_extension": ".py",
   "mimetype": "text/x-python",
   "name": "python",
   "nbconvert_exporter": "python",
   "pygments_lexer": "ipython3",
   "version": "3.6.5"
  }
 },
 "nbformat": 4,
 "nbformat_minor": 2
}
