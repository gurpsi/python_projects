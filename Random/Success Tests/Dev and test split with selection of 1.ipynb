{
 "cells": [
  {
   "cell_type": "code",
   "execution_count": 30,
   "metadata": {},
   "outputs": [],
   "source": [
    "import numpy as np\n",
    "import pandas as pd\n",
    "import os"
   ]
  },
  {
   "cell_type": "code",
   "execution_count": 31,
   "metadata": {},
   "outputs": [],
   "source": [
    "def load_from_csv(folder_name, file_name, sep='\\t', header=None):\n",
    "    \"\"\"Load a csv file\n",
    "\n",
    "        Loads a knowledge graph serialized in a csv file as:\n",
    "\n",
    "        .. code-block:: text\n",
    "\n",
    "           subj1    relationX   obj1\n",
    "           subj1    relationY   obj2\n",
    "           subj3    relationZ   obj2\n",
    "           subj4    relationY   obj2\n",
    "           ...\n",
    "\n",
    "\n",
    "        .. note::\n",
    "            Duplicates are filtered.\n",
    "\n",
    "    Parameters\n",
    "    ----------\n",
    "    folder_name: str\n",
    "        base folder within XAI_DATA_HOME where the file is stored.\n",
    "    file_name : str\n",
    "        file name\n",
    "    sep : str\n",
    "        The subject-predicate-object separator (default \\t).\n",
    "    header : int, None\n",
    "        The row of the header of the csv file. Same as pandas.read_csv header param.\n",
    "\n",
    "    Returns\n",
    "    -------\n",
    "        triples : ndarray , shape [n, 3]\n",
    "            the actual triples of the file.\n",
    "\n",
    "    Examples\n",
    "    --------\n",
    "    >>> from xai_lp.datasets import load_from_csv\n",
    "    >>> X = load_from_csv('folder', 'dataset.csv', sep=',')\n",
    "    >>> X[:3]\n",
    "    array([['a', 'y', 'b'],\n",
    "           ['b', 'y', 'a'],\n",
    "           ['a', 'y', 'c']],\n",
    "          dtype='<U1')\n",
    "\n",
    "\n",
    "\n",
    "\n",
    "\n",
    "    \"\"\"\n",
    "    df = pd.read_csv(os.path.join(XAI_DATA_HOME, folder_name, file_name),\n",
    "                     sep=sep,\n",
    "                     header=header,\n",
    "                     names=None,\n",
    "                     dtype=str)\n",
    "\n",
    "    df = df.drop_duplicates()\n",
    "    return df.as_matrix()"
   ]
  },
  {
   "cell_type": "code",
   "execution_count": 32,
   "metadata": {},
   "outputs": [],
   "source": [
    "path = os.getcwd()\n",
    "XAI_DATA_HOME = path"
   ]
  },
  {
   "cell_type": "code",
   "execution_count": 33,
   "metadata": {},
   "outputs": [
    {
     "name": "stderr",
     "output_type": "stream",
     "text": [
      "/Users/gurpreet.ag.singh/anaconda3/lib/python3.6/site-packages/ipykernel_launcher.py:56: FutureWarning: Method .as_matrix will be removed in a future version. Use .values instead.\n"
     ]
    }
   ],
   "source": [
    "train = load_from_csv('wn11','train.txt')\n",
    "size = train.shape\n",
    "n = int(size[0])    # Format returned is tuple, and we just need total number of rows.\n",
    "ones = np.ones((n, 1), dtype=str)\n"
   ]
  },
  {
   "cell_type": "code",
   "execution_count": 34,
   "metadata": {},
   "outputs": [
    {
     "data": {
      "text/plain": [
       "array([['1'],\n",
       "       ['1'],\n",
       "       ['1'],\n",
       "       ...,\n",
       "       ['1'],\n",
       "       ['1'],\n",
       "       ['1']], dtype='<U1')"
      ]
     },
     "execution_count": 34,
     "metadata": {},
     "output_type": "execute_result"
    }
   ],
   "source": [
    "ones"
   ]
  },
  {
   "cell_type": "code",
   "execution_count": 35,
   "metadata": {},
   "outputs": [],
   "source": [
    "train = np.concatenate((train, ones), axis=1)"
   ]
  },
  {
   "cell_type": "code",
   "execution_count": 36,
   "metadata": {},
   "outputs": [
    {
     "data": {
      "text/plain": [
       "array([['__spiritual_bouquet_1', '_type_of', '__sympathy_card_1', '1'],\n",
       "       ['__spiritual_bouquet_1', '_synset_domain_topic',\n",
       "        '__church_of_rome_1', '1'],\n",
       "       ['__absorption_5', '_type_of', '__attention_4', '1'],\n",
       "       ...,\n",
       "       ['__frontier_1', '_type_of', '__bound_6', '1'],\n",
       "       ['__eurasia_1', '_part_of', '__eastern_hemisphere_1', '1'],\n",
       "       ['__electronics_1', '_domain_region', '__frequency_response_1',\n",
       "        '1']], dtype=object)"
      ]
     },
     "execution_count": 36,
     "metadata": {},
     "output_type": "execute_result"
    }
   ],
   "source": [
    "train"
   ]
  },
  {
   "cell_type": "code",
   "execution_count": 37,
   "metadata": {},
   "outputs": [
    {
     "name": "stderr",
     "output_type": "stream",
     "text": [
      "/Users/gurpreet.ag.singh/anaconda3/lib/python3.6/site-packages/ipykernel_launcher.py:56: FutureWarning: Method .as_matrix will be removed in a future version. Use .values instead.\n"
     ]
    }
   ],
   "source": [
    "val = load_from_csv('wn11','dev.txt')\n",
    "test = load_from_csv('wn11','test.txt')"
   ]
  },
  {
   "cell_type": "code",
   "execution_count": 38,
   "metadata": {},
   "outputs": [
    {
     "data": {
      "text/plain": [
       "array([['__genus_xylomelum_1', '_type_of', '__dicot_genus_1', '1'],\n",
       "       ['__genus_xylomelum_1', '_type_of', '__clostridium_perfringens_1',\n",
       "        '-1'],\n",
       "       ['__house_of_god_1', '_has_instance', '__church_2', '1'],\n",
       "       ...,\n",
       "       ['__tracked_vehicle_1', '_has_instance',\n",
       "        '__potassium_acid_carbonate_1', '-1'],\n",
       "       ['__hearing_disorder_1', '_type_of', '__disability_1', '1'],\n",
       "       ['__hearing_disorder_1', '_type_of', '__buy_off_1', '-1']],\n",
       "      dtype=object)"
      ]
     },
     "execution_count": 38,
     "metadata": {},
     "output_type": "execute_result"
    }
   ],
   "source": [
    "val"
   ]
  },
  {
   "cell_type": "code",
   "execution_count": 39,
   "metadata": {},
   "outputs": [
    {
     "data": {
      "text/plain": [
       "array([['__chamaecyparis_lawsoniana_1', '_type_of', '__cedar_1', '1'],\n",
       "       ['__chamaecyparis_lawsoniana_1', '_type_of',\n",
       "        '__order_synentognathi_1', '-1'],\n",
       "       ['__sway_2', '_has_instance', '__brachiate_1', '1'],\n",
       "       ...,\n",
       "       ['__genus_isurus_1', '_member_meronym', '__portrait_3', '-1'],\n",
       "       ['__baseball_diamond_1', '_has_part', '__short_3', '1'],\n",
       "       ['__baseball_diamond_1', '_has_part', '__haste_2', '-1']],\n",
       "      dtype=object)"
      ]
     },
     "execution_count": 39,
     "metadata": {},
     "output_type": "execute_result"
    }
   ],
   "source": [
    "test"
   ]
  },
  {
   "cell_type": "code",
   "execution_count": 40,
   "metadata": {},
   "outputs": [
    {
     "data": {
      "text/plain": [
       "array([['__genus_xylomelum_1', '_type_of', '__dicot_genus_1', '1'],\n",
       "       ['__house_of_god_1', '_has_instance', '__church_2', '1'],\n",
       "       ['__family_graminaceae_1', '_member_meronym', '__bromus_1', '1'],\n",
       "       ...,\n",
       "       ['__court_3', '_has_instance', '__criminal_court_1', '1'],\n",
       "       ['__tracked_vehicle_1', '_has_instance', '__half_track_1', '1'],\n",
       "       ['__hearing_disorder_1', '_type_of', '__disability_1', '1']],\n",
       "      dtype=object)"
      ]
     },
     "execution_count": 40,
     "metadata": {},
     "output_type": "execute_result"
    }
   ],
   "source": [
    "val[val[:, 3] == '1']"
   ]
  },
  {
   "cell_type": "code",
   "execution_count": 42,
   "metadata": {},
   "outputs": [
    {
     "data": {
      "text/plain": [
       "array([['__genus_xylomelum_1', '_type_of', '__dicot_genus_1'],\n",
       "       ['__house_of_god_1', '_has_instance', '__church_2'],\n",
       "       ['__family_graminaceae_1', '_member_meronym', '__bromus_1'],\n",
       "       ...,\n",
       "       ['__court_3', '_has_instance', '__criminal_court_1'],\n",
       "       ['__tracked_vehicle_1', '_has_instance', '__half_track_1'],\n",
       "       ['__hearing_disorder_1', '_type_of', '__disability_1']],\n",
       "      dtype=object)"
      ]
     },
     "execution_count": 42,
     "metadata": {},
     "output_type": "execute_result"
    }
   ],
   "source": [
    "val[val[:, 3] == '1'][:, 0:3]"
   ]
  },
  {
   "cell_type": "code",
   "execution_count": null,
   "metadata": {},
   "outputs": [],
   "source": []
  }
 ],
 "metadata": {
  "kernelspec": {
   "display_name": "Python 3",
   "language": "python",
   "name": "python3"
  },
  "language_info": {
   "codemirror_mode": {
    "name": "ipython",
    "version": 3
   },
   "file_extension": ".py",
   "mimetype": "text/x-python",
   "name": "python",
   "nbconvert_exporter": "python",
   "pygments_lexer": "ipython3",
   "version": "3.6.5"
  }
 },
 "nbformat": 4,
 "nbformat_minor": 2
}
