{
 "cells": [
  {
   "cell_type": "code",
   "execution_count": null,
   "metadata": {},
   "outputs": [],
   "source": []
  },
  {
   "cell_type": "code",
   "execution_count": 8,
   "metadata": {},
   "outputs": [],
   "source": [
    "def Hamaguchi(batches_count=2, seed=555, epochs=100, k=20, loss='pairwise', optimizer='adagrad',\n",
    "              pairwise_margin=100, eta=1, scoring='TransE', transition='identity',\n",
    "              pooling='max', max_neighbours=64, verbose=True):\n",
    "    \n",
    "    \n",
    "    print(' transition: {}, \\t optimizer: {}, \\t scoring: {}, \\t pooling: {}'.format(transition,optimizer,scoring,pooling))"
   ]
  },
  {
   "cell_type": "code",
   "execution_count": 27,
   "metadata": {},
   "outputs": [
    {
     "name": "stdout",
     "output_type": "stream",
     "text": [
      " transition: identity, \t optimizer: adagrad, \t scoring: TransE, \t pooling: max\n"
     ]
    }
   ],
   "source": [
    "model = Hamaguchi(batches_count=2, seed=555, epochs=100, k=20, loss='pairwise',\n",
    "                  optimizer='adagrad',scoring='TransE', transition='identity', pooling='max',\n",
    "                  pairwise_margin=100, eta=1, max_neighbours=64, verbose=True)"
   ]
  },
  {
   "cell_type": "code",
   "execution_count": 25,
   "metadata": {},
   "outputs": [],
   "source": [
    "transition = ['identity', 'relu', 'tanh'] \n",
    "scoring = ['TransE','DistMult','ComplEx'] \n",
    "pooling = ['avg','sum','max'] \n",
    "optimizer = ['adam','adadelta','rmsprop']\n",
    "# optimizer = ['adagrad', 'adam','adadelta','rmsprop']"
   ]
  },
  {
   "cell_type": "code",
   "execution_count": 11,
   "metadata": {},
   "outputs": [
    {
     "data": {
      "text/plain": [
       "['identity', 'relu', 'tanh']"
      ]
     },
     "execution_count": 11,
     "metadata": {},
     "output_type": "execute_result"
    }
   ],
   "source": [
    "transition"
   ]
  },
  {
   "cell_type": "code",
   "execution_count": 31,
   "metadata": {},
   "outputs": [
    {
     "name": "stdout",
     "output_type": "stream",
     "text": [
      " transition: identity, \t optimizer: adam, \t scoring: TransE, \t pooling: avg\n",
      " transition: identity, \t optimizer: adam, \t scoring: TransE, \t pooling: avg\n",
      " transition: identity, \t optimizer: adadelta, \t scoring: TransE, \t pooling: avg\n",
      " transition: identity, \t optimizer: adadelta, \t scoring: TransE, \t pooling: avg\n",
      " transition: identity, \t optimizer: rmsprop, \t scoring: TransE, \t pooling: avg\n",
      " transition: identity, \t optimizer: rmsprop, \t scoring: TransE, \t pooling: avg\n",
      " transition: identity, \t optimizer: adam, \t scoring: TransE, \t pooling: sum\n",
      " transition: identity, \t optimizer: adam, \t scoring: TransE, \t pooling: sum\n",
      " transition: identity, \t optimizer: adadelta, \t scoring: TransE, \t pooling: sum\n",
      " transition: identity, \t optimizer: adadelta, \t scoring: TransE, \t pooling: sum\n",
      " transition: identity, \t optimizer: rmsprop, \t scoring: TransE, \t pooling: sum\n",
      " transition: identity, \t optimizer: rmsprop, \t scoring: TransE, \t pooling: sum\n",
      " transition: identity, \t optimizer: adam, \t scoring: TransE, \t pooling: max\n",
      " transition: identity, \t optimizer: adam, \t scoring: TransE, \t pooling: max\n",
      " transition: identity, \t optimizer: adadelta, \t scoring: TransE, \t pooling: max\n",
      " transition: identity, \t optimizer: adadelta, \t scoring: TransE, \t pooling: max\n",
      " transition: identity, \t optimizer: rmsprop, \t scoring: TransE, \t pooling: max\n",
      " transition: identity, \t optimizer: rmsprop, \t scoring: TransE, \t pooling: max\n",
      " transition: identity, \t optimizer: adam, \t scoring: DistMult, \t pooling: avg\n",
      " transition: identity, \t optimizer: adam, \t scoring: DistMult, \t pooling: avg\n",
      " transition: identity, \t optimizer: adadelta, \t scoring: DistMult, \t pooling: avg\n",
      " transition: identity, \t optimizer: adadelta, \t scoring: DistMult, \t pooling: avg\n",
      " transition: identity, \t optimizer: rmsprop, \t scoring: DistMult, \t pooling: avg\n",
      " transition: identity, \t optimizer: rmsprop, \t scoring: DistMult, \t pooling: avg\n",
      " transition: identity, \t optimizer: adam, \t scoring: DistMult, \t pooling: sum\n",
      " transition: identity, \t optimizer: adam, \t scoring: DistMult, \t pooling: sum\n",
      " transition: identity, \t optimizer: adadelta, \t scoring: DistMult, \t pooling: sum\n",
      " transition: identity, \t optimizer: adadelta, \t scoring: DistMult, \t pooling: sum\n",
      " transition: identity, \t optimizer: rmsprop, \t scoring: DistMult, \t pooling: sum\n",
      " transition: identity, \t optimizer: rmsprop, \t scoring: DistMult, \t pooling: sum\n",
      " transition: identity, \t optimizer: adam, \t scoring: DistMult, \t pooling: max\n",
      " transition: identity, \t optimizer: adam, \t scoring: DistMult, \t pooling: max\n",
      " transition: identity, \t optimizer: adadelta, \t scoring: DistMult, \t pooling: max\n",
      " transition: identity, \t optimizer: adadelta, \t scoring: DistMult, \t pooling: max\n",
      " transition: identity, \t optimizer: rmsprop, \t scoring: DistMult, \t pooling: max\n",
      " transition: identity, \t optimizer: rmsprop, \t scoring: DistMult, \t pooling: max\n",
      " transition: identity, \t optimizer: adam, \t scoring: ComplEx, \t pooling: avg\n",
      " transition: identity, \t optimizer: adam, \t scoring: ComplEx, \t pooling: avg\n",
      " transition: identity, \t optimizer: adadelta, \t scoring: ComplEx, \t pooling: avg\n",
      " transition: identity, \t optimizer: adadelta, \t scoring: ComplEx, \t pooling: avg\n",
      " transition: identity, \t optimizer: rmsprop, \t scoring: ComplEx, \t pooling: avg\n",
      " transition: identity, \t optimizer: rmsprop, \t scoring: ComplEx, \t pooling: avg\n",
      " transition: identity, \t optimizer: adam, \t scoring: ComplEx, \t pooling: sum\n",
      " transition: identity, \t optimizer: adam, \t scoring: ComplEx, \t pooling: sum\n",
      " transition: identity, \t optimizer: adadelta, \t scoring: ComplEx, \t pooling: sum\n",
      " transition: identity, \t optimizer: adadelta, \t scoring: ComplEx, \t pooling: sum\n",
      " transition: identity, \t optimizer: rmsprop, \t scoring: ComplEx, \t pooling: sum\n",
      " transition: identity, \t optimizer: rmsprop, \t scoring: ComplEx, \t pooling: sum\n",
      " transition: identity, \t optimizer: adam, \t scoring: ComplEx, \t pooling: max\n",
      " transition: identity, \t optimizer: adam, \t scoring: ComplEx, \t pooling: max\n",
      " transition: identity, \t optimizer: adadelta, \t scoring: ComplEx, \t pooling: max\n",
      " transition: identity, \t optimizer: adadelta, \t scoring: ComplEx, \t pooling: max\n",
      " transition: identity, \t optimizer: rmsprop, \t scoring: ComplEx, \t pooling: max\n",
      " transition: identity, \t optimizer: rmsprop, \t scoring: ComplEx, \t pooling: max\n",
      " transition: relu, \t optimizer: adam, \t scoring: TransE, \t pooling: avg\n",
      " transition: relu, \t optimizer: adam, \t scoring: TransE, \t pooling: avg\n",
      " transition: relu, \t optimizer: adadelta, \t scoring: TransE, \t pooling: avg\n",
      " transition: relu, \t optimizer: adadelta, \t scoring: TransE, \t pooling: avg\n",
      " transition: relu, \t optimizer: rmsprop, \t scoring: TransE, \t pooling: avg\n",
      " transition: relu, \t optimizer: rmsprop, \t scoring: TransE, \t pooling: avg\n",
      " transition: relu, \t optimizer: adam, \t scoring: TransE, \t pooling: sum\n",
      " transition: relu, \t optimizer: adam, \t scoring: TransE, \t pooling: sum\n",
      " transition: relu, \t optimizer: adadelta, \t scoring: TransE, \t pooling: sum\n",
      " transition: relu, \t optimizer: adadelta, \t scoring: TransE, \t pooling: sum\n",
      " transition: relu, \t optimizer: rmsprop, \t scoring: TransE, \t pooling: sum\n",
      " transition: relu, \t optimizer: rmsprop, \t scoring: TransE, \t pooling: sum\n",
      " transition: relu, \t optimizer: adam, \t scoring: TransE, \t pooling: max\n",
      " transition: relu, \t optimizer: adam, \t scoring: TransE, \t pooling: max\n",
      " transition: relu, \t optimizer: adadelta, \t scoring: TransE, \t pooling: max\n",
      " transition: relu, \t optimizer: adadelta, \t scoring: TransE, \t pooling: max\n",
      " transition: relu, \t optimizer: rmsprop, \t scoring: TransE, \t pooling: max\n",
      " transition: relu, \t optimizer: rmsprop, \t scoring: TransE, \t pooling: max\n",
      " transition: relu, \t optimizer: adam, \t scoring: DistMult, \t pooling: avg\n",
      " transition: relu, \t optimizer: adam, \t scoring: DistMult, \t pooling: avg\n",
      " transition: relu, \t optimizer: adadelta, \t scoring: DistMult, \t pooling: avg\n",
      " transition: relu, \t optimizer: adadelta, \t scoring: DistMult, \t pooling: avg\n",
      " transition: relu, \t optimizer: rmsprop, \t scoring: DistMult, \t pooling: avg\n",
      " transition: relu, \t optimizer: rmsprop, \t scoring: DistMult, \t pooling: avg\n",
      " transition: relu, \t optimizer: adam, \t scoring: DistMult, \t pooling: sum\n",
      " transition: relu, \t optimizer: adam, \t scoring: DistMult, \t pooling: sum\n",
      " transition: relu, \t optimizer: adadelta, \t scoring: DistMult, \t pooling: sum\n",
      " transition: relu, \t optimizer: adadelta, \t scoring: DistMult, \t pooling: sum\n",
      " transition: relu, \t optimizer: rmsprop, \t scoring: DistMult, \t pooling: sum\n",
      " transition: relu, \t optimizer: rmsprop, \t scoring: DistMult, \t pooling: sum\n",
      " transition: relu, \t optimizer: adam, \t scoring: DistMult, \t pooling: max\n",
      " transition: relu, \t optimizer: adam, \t scoring: DistMult, \t pooling: max\n",
      " transition: relu, \t optimizer: adadelta, \t scoring: DistMult, \t pooling: max\n",
      " transition: relu, \t optimizer: adadelta, \t scoring: DistMult, \t pooling: max\n",
      " transition: relu, \t optimizer: rmsprop, \t scoring: DistMult, \t pooling: max\n",
      " transition: relu, \t optimizer: rmsprop, \t scoring: DistMult, \t pooling: max\n",
      " transition: relu, \t optimizer: adam, \t scoring: ComplEx, \t pooling: avg\n",
      " transition: relu, \t optimizer: adam, \t scoring: ComplEx, \t pooling: avg\n",
      " transition: relu, \t optimizer: adadelta, \t scoring: ComplEx, \t pooling: avg\n",
      " transition: relu, \t optimizer: adadelta, \t scoring: ComplEx, \t pooling: avg\n",
      " transition: relu, \t optimizer: rmsprop, \t scoring: ComplEx, \t pooling: avg\n",
      " transition: relu, \t optimizer: rmsprop, \t scoring: ComplEx, \t pooling: avg\n",
      " transition: relu, \t optimizer: adam, \t scoring: ComplEx, \t pooling: sum\n",
      " transition: relu, \t optimizer: adam, \t scoring: ComplEx, \t pooling: sum\n",
      " transition: relu, \t optimizer: adadelta, \t scoring: ComplEx, \t pooling: sum\n",
      " transition: relu, \t optimizer: adadelta, \t scoring: ComplEx, \t pooling: sum\n",
      " transition: relu, \t optimizer: rmsprop, \t scoring: ComplEx, \t pooling: sum\n",
      " transition: relu, \t optimizer: rmsprop, \t scoring: ComplEx, \t pooling: sum\n",
      " transition: relu, \t optimizer: adam, \t scoring: ComplEx, \t pooling: max\n",
      " transition: relu, \t optimizer: adam, \t scoring: ComplEx, \t pooling: max\n",
      " transition: relu, \t optimizer: adadelta, \t scoring: ComplEx, \t pooling: max\n",
      " transition: relu, \t optimizer: adadelta, \t scoring: ComplEx, \t pooling: max\n",
      " transition: relu, \t optimizer: rmsprop, \t scoring: ComplEx, \t pooling: max\n",
      " transition: relu, \t optimizer: rmsprop, \t scoring: ComplEx, \t pooling: max\n",
      " transition: tanh, \t optimizer: adam, \t scoring: TransE, \t pooling: avg\n",
      " transition: tanh, \t optimizer: adam, \t scoring: TransE, \t pooling: avg\n",
      " transition: tanh, \t optimizer: adadelta, \t scoring: TransE, \t pooling: avg\n",
      " transition: tanh, \t optimizer: adadelta, \t scoring: TransE, \t pooling: avg\n",
      " transition: tanh, \t optimizer: rmsprop, \t scoring: TransE, \t pooling: avg\n",
      " transition: tanh, \t optimizer: rmsprop, \t scoring: TransE, \t pooling: avg\n",
      " transition: tanh, \t optimizer: adam, \t scoring: TransE, \t pooling: sum\n",
      " transition: tanh, \t optimizer: adam, \t scoring: TransE, \t pooling: sum\n",
      " transition: tanh, \t optimizer: adadelta, \t scoring: TransE, \t pooling: sum\n",
      " transition: tanh, \t optimizer: adadelta, \t scoring: TransE, \t pooling: sum\n",
      " transition: tanh, \t optimizer: rmsprop, \t scoring: TransE, \t pooling: sum\n",
      " transition: tanh, \t optimizer: rmsprop, \t scoring: TransE, \t pooling: sum\n",
      " transition: tanh, \t optimizer: adam, \t scoring: TransE, \t pooling: max\n",
      " transition: tanh, \t optimizer: adam, \t scoring: TransE, \t pooling: max\n",
      " transition: tanh, \t optimizer: adadelta, \t scoring: TransE, \t pooling: max\n",
      " transition: tanh, \t optimizer: adadelta, \t scoring: TransE, \t pooling: max\n",
      " transition: tanh, \t optimizer: rmsprop, \t scoring: TransE, \t pooling: max\n",
      " transition: tanh, \t optimizer: rmsprop, \t scoring: TransE, \t pooling: max\n",
      " transition: tanh, \t optimizer: adam, \t scoring: DistMult, \t pooling: avg\n",
      " transition: tanh, \t optimizer: adam, \t scoring: DistMult, \t pooling: avg\n",
      " transition: tanh, \t optimizer: adadelta, \t scoring: DistMult, \t pooling: avg\n",
      " transition: tanh, \t optimizer: adadelta, \t scoring: DistMult, \t pooling: avg\n",
      " transition: tanh, \t optimizer: rmsprop, \t scoring: DistMult, \t pooling: avg\n",
      " transition: tanh, \t optimizer: rmsprop, \t scoring: DistMult, \t pooling: avg\n",
      " transition: tanh, \t optimizer: adam, \t scoring: DistMult, \t pooling: sum\n",
      " transition: tanh, \t optimizer: adam, \t scoring: DistMult, \t pooling: sum\n",
      " transition: tanh, \t optimizer: adadelta, \t scoring: DistMult, \t pooling: sum\n",
      " transition: tanh, \t optimizer: adadelta, \t scoring: DistMult, \t pooling: sum\n",
      " transition: tanh, \t optimizer: rmsprop, \t scoring: DistMult, \t pooling: sum\n",
      " transition: tanh, \t optimizer: rmsprop, \t scoring: DistMult, \t pooling: sum\n",
      " transition: tanh, \t optimizer: adam, \t scoring: DistMult, \t pooling: max\n",
      " transition: tanh, \t optimizer: adam, \t scoring: DistMult, \t pooling: max\n",
      " transition: tanh, \t optimizer: adadelta, \t scoring: DistMult, \t pooling: max\n",
      " transition: tanh, \t optimizer: adadelta, \t scoring: DistMult, \t pooling: max\n",
      " transition: tanh, \t optimizer: rmsprop, \t scoring: DistMult, \t pooling: max\n",
      " transition: tanh, \t optimizer: rmsprop, \t scoring: DistMult, \t pooling: max\n",
      " transition: tanh, \t optimizer: adam, \t scoring: ComplEx, \t pooling: avg\n",
      " transition: tanh, \t optimizer: adam, \t scoring: ComplEx, \t pooling: avg\n",
      " transition: tanh, \t optimizer: adadelta, \t scoring: ComplEx, \t pooling: avg\n",
      " transition: tanh, \t optimizer: adadelta, \t scoring: ComplEx, \t pooling: avg\n",
      " transition: tanh, \t optimizer: rmsprop, \t scoring: ComplEx, \t pooling: avg\n",
      " transition: tanh, \t optimizer: rmsprop, \t scoring: ComplEx, \t pooling: avg\n",
      " transition: tanh, \t optimizer: adam, \t scoring: ComplEx, \t pooling: sum\n",
      " transition: tanh, \t optimizer: adam, \t scoring: ComplEx, \t pooling: sum\n",
      " transition: tanh, \t optimizer: adadelta, \t scoring: ComplEx, \t pooling: sum\n",
      " transition: tanh, \t optimizer: adadelta, \t scoring: ComplEx, \t pooling: sum\n",
      " transition: tanh, \t optimizer: rmsprop, \t scoring: ComplEx, \t pooling: sum\n",
      " transition: tanh, \t optimizer: rmsprop, \t scoring: ComplEx, \t pooling: sum\n",
      " transition: tanh, \t optimizer: adam, \t scoring: ComplEx, \t pooling: max\n",
      " transition: tanh, \t optimizer: adam, \t scoring: ComplEx, \t pooling: max\n",
      " transition: tanh, \t optimizer: adadelta, \t scoring: ComplEx, \t pooling: max\n",
      " transition: tanh, \t optimizer: adadelta, \t scoring: ComplEx, \t pooling: max\n",
      " transition: tanh, \t optimizer: rmsprop, \t scoring: ComplEx, \t pooling: max\n",
      " transition: tanh, \t optimizer: rmsprop, \t scoring: ComplEx, \t pooling: max\n"
     ]
    }
   ],
   "source": [
    "for trans in range(0,3):\n",
    "    for sco in range(0,3):\n",
    "        for poo in range(0,3):\n",
    "            for opt in range(0,3):\n",
    "                print(' transition: {}, \\t optimizer: {}, \\t scoring: {}, \\t pooling: {}'.format(\n",
    "                    transition[trans],optimizer[opt],scoring[sco],pooling[poo]))\n",
    "                \n",
    "                model = Hamaguchi(batches_count=2, seed=555, epochs=100, k=20, loss='pairwise',\n",
    "                  transition=transition[trans], optimizer=optimizer[opt], scoring=scoring[sco],pooling=pooling[poo],\n",
    "                  pairwise_margin=100, eta=1, max_neighbours=64, verbose=True)\n",
    "                \n",
    "                "
   ]
  },
  {
   "cell_type": "code",
   "execution_count": null,
   "metadata": {},
   "outputs": [],
   "source": []
  },
  {
   "cell_type": "code",
   "execution_count": 35,
   "metadata": {},
   "outputs": [],
   "source": [
    "transition = ['identity', 'relu'] \n",
    "scoring = ['TransE','DistMult','ComplEx'] "
   ]
  },
  {
   "cell_type": "code",
   "execution_count": 41,
   "metadata": {},
   "outputs": [
    {
     "name": "stdout",
     "output_type": "stream",
     "text": [
      " transition: identity, \t optimizer: adam, \t scoring: TransE, \t pooling: max\n",
      " transition: identity, \t optimizer: adam, \t scoring: DistMult, \t pooling: max\n",
      " transition: identity, \t optimizer: adam, \t scoring: ComplEx, \t pooling: max\n",
      " transition: relu, \t optimizer: adam, \t scoring: TransE, \t pooling: max\n",
      " transition: relu, \t optimizer: adam, \t scoring: DistMult, \t pooling: max\n",
      " transition: relu, \t optimizer: adam, \t scoring: ComplEx, \t pooling: max\n"
     ]
    }
   ],
   "source": [
    "for trans in range(0,2):\n",
    "    for sco in range(0,3):\n",
    "#         print(' transition: {},\\t scoring: {}'.format(transition[trans],scoring[sco]))\n",
    "                \n",
    "        model = Hamaguchi(batches_count=2, seed=555, epochs=100, k=20, loss='pairwise',\n",
    "          transition=transition[trans], optimizer='adam', scoring=scoring[sco],pooling='max',\n",
    "          pairwise_margin=100, eta=1, max_neighbours=64, verbose=True)"
   ]
  },
  {
   "cell_type": "code",
   "execution_count": null,
   "metadata": {},
   "outputs": [],
   "source": []
  },
  {
   "cell_type": "code",
   "execution_count": null,
   "metadata": {},
   "outputs": [],
   "source": []
  },
  {
   "cell_type": "code",
   "execution_count": null,
   "metadata": {},
   "outputs": [],
   "source": []
  }
 ],
 "metadata": {
  "kernelspec": {
   "display_name": "Python 3",
   "language": "python",
   "name": "python3"
  },
  "language_info": {
   "codemirror_mode": {
    "name": "ipython",
    "version": 3
   },
   "file_extension": ".py",
   "mimetype": "text/x-python",
   "name": "python",
   "nbconvert_exporter": "python",
   "pygments_lexer": "ipython3",
   "version": "3.6.5"
  }
 },
 "nbformat": 4,
 "nbformat_minor": 2
}
