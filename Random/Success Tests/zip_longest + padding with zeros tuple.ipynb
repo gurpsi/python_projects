{
 "cells": [
  {
   "cell_type": "code",
   "execution_count": 31,
   "metadata": {},
   "outputs": [],
   "source": [
    "import itertools as it"
   ]
  },
  {
   "cell_type": "code",
   "execution_count": 32,
   "metadata": {},
   "outputs": [
    {
     "name": "stdout",
     "output_type": "stream",
     "text": [
      "0\n",
      "1\n",
      "2\n",
      "3\n",
      "4\n",
      "5\n",
      "6\n",
      "7\n",
      "8\n",
      "9\n",
      "0\n",
      "1\n",
      "2\n",
      "3\n",
      "4\n"
     ]
    }
   ],
   "source": [
    "for i in it.chain(range(10), range(5)):\n",
    "    print(i)"
   ]
  },
  {
   "cell_type": "code",
   "execution_count": 33,
   "metadata": {},
   "outputs": [],
   "source": [
    "# for i,j in it.chain(range(10), range(5)):\n",
    "#     print(i)"
   ]
  },
  {
   "cell_type": "code",
   "execution_count": 34,
   "metadata": {},
   "outputs": [
    {
     "name": "stdout",
     "output_type": "stream",
     "text": [
      "0\n",
      "1\n",
      "2\n",
      "3\n",
      "4\n",
      "0\n",
      "1\n",
      "2\n",
      "3\n",
      "4\n",
      "5\n",
      "6\n",
      "7\n",
      "8\n",
      "9\n"
     ]
    }
   ],
   "source": [
    "gen = (i for j in (range(5), range(10)) for i in j)\n",
    "for x in gen:\n",
    "    print(x)"
   ]
  },
  {
   "cell_type": "code",
   "execution_count": 35,
   "metadata": {},
   "outputs": [
    {
     "name": "stdout",
     "output_type": "stream",
     "text": [
      "0\n",
      "0\n",
      "1\n",
      "1\n",
      "2\n",
      "2\n",
      "3\n",
      "3\n",
      "4\n",
      "4\n"
     ]
    }
   ],
   "source": [
    "for i,j in zip(range(10), range(5)):\n",
    "    print(i)\n",
    "    print(j)"
   ]
  },
  {
   "cell_type": "code",
   "execution_count": 36,
   "metadata": {},
   "outputs": [],
   "source": [
    "# for i, j in it.product(range(10), range(5)):\n",
    "#     print(\"i\",i)\n",
    "#     print(\"\\tj\",j)"
   ]
  },
  {
   "cell_type": "code",
   "execution_count": 37,
   "metadata": {},
   "outputs": [
    {
     "name": "stdout",
     "output_type": "stream",
     "text": [
      "i 0\n",
      "\tj 0\n",
      "i 1\n",
      "\tj 1\n",
      "i 2\n",
      "\tj 2\n",
      "i 3\n",
      "\tj 3\n",
      "i 4\n",
      "\tj 4\n",
      "i 5\n",
      "i 6\n",
      "i 7\n",
      "i 8\n",
      "i 9\n"
     ]
    }
   ],
   "source": [
    "for i, j in it.zip_longest(range(10), range(5), fillvalue='-'):\n",
    "    print(\"i\",i)\n",
    "    \n",
    "    if j == '-':\n",
    "        continue\n",
    "    print(\"\\tj\",j)\n"
   ]
  },
  {
   "cell_type": "code",
   "execution_count": 38,
   "metadata": {},
   "outputs": [
    {
     "name": "stdout",
     "output_type": "stream",
     "text": [
      "i 0\n",
      "\tj 0\n",
      "i 1\n",
      "\tj 1\n",
      "i 2\n",
      "\tj 2\n",
      "i 3\n",
      "\tj 3\n",
      "i 4\n",
      "\tj 4\n",
      "i 5\n",
      "i 6\n",
      "i 7\n",
      "i 8\n",
      "i 9\n"
     ]
    }
   ],
   "source": [
    "for i, j in it.zip_longest(range(10), range(5), fillvalue='-'):\n",
    "    print(\"i\",i)\n",
    "    \n",
    "    if j != '-':\n",
    "        print(\"\\tj\",j)"
   ]
  },
  {
   "cell_type": "code",
   "execution_count": 39,
   "metadata": {},
   "outputs": [
    {
     "data": {
      "text/plain": [
       "[100, 200, 300, 400, 500, 600]"
      ]
     },
     "execution_count": 39,
     "metadata": {},
     "output_type": "execute_result"
    }
   ],
   "source": [
    "values = [100, 200, 300, 400, 500, 600]\n",
    "values"
   ]
  },
  {
   "cell_type": "code",
   "execution_count": 40,
   "metadata": {},
   "outputs": [
    {
     "data": {
      "text/plain": [
       "[100, 324, 6]"
      ]
     },
     "execution_count": 40,
     "metadata": {},
     "output_type": "execute_result"
    }
   ],
   "source": [
    "values1 = [100, 324, 6]\n",
    "values1"
   ]
  },
  {
   "cell_type": "code",
   "execution_count": 41,
   "metadata": {},
   "outputs": [],
   "source": [
    "del values, values1"
   ]
  },
  {
   "cell_type": "code",
   "execution_count": 42,
   "metadata": {},
   "outputs": [
    {
     "ename": "NameError",
     "evalue": "name 'values' is not defined",
     "output_type": "error",
     "traceback": [
      "\u001b[0;31m---------------------------------------------------------------------------\u001b[0m",
      "\u001b[0;31mNameError\u001b[0m                                 Traceback (most recent call last)",
      "\u001b[0;32m<ipython-input-42-0234f1d70131>\u001b[0m in \u001b[0;36m<module>\u001b[0;34m()\u001b[0m\n\u001b[0;32m----> 1\u001b[0;31m \u001b[0mvalues\u001b[0m\u001b[0;34m\u001b[0m\u001b[0m\n\u001b[0m",
      "\u001b[0;31mNameError\u001b[0m: name 'values' is not defined"
     ]
    }
   ],
   "source": [
    "values"
   ]
  },
  {
   "cell_type": "code",
   "execution_count": 43,
   "metadata": {},
   "outputs": [
    {
     "ename": "NameError",
     "evalue": "name 'values1' is not defined",
     "output_type": "error",
     "traceback": [
      "\u001b[0;31m---------------------------------------------------------------------------\u001b[0m",
      "\u001b[0;31mNameError\u001b[0m                                 Traceback (most recent call last)",
      "\u001b[0;32m<ipython-input-43-c4de6f8caa88>\u001b[0m in \u001b[0;36m<module>\u001b[0;34m()\u001b[0m\n\u001b[0;32m----> 1\u001b[0;31m \u001b[0mvalues1\u001b[0m\u001b[0;34m\u001b[0m\u001b[0m\n\u001b[0m",
      "\u001b[0;31mNameError\u001b[0m: name 'values1' is not defined"
     ]
    }
   ],
   "source": [
    "values1"
   ]
  },
  {
   "cell_type": "code",
   "execution_count": 44,
   "metadata": {},
   "outputs": [],
   "source": [
    "import numpy as np"
   ]
  },
  {
   "cell_type": "code",
   "execution_count": 45,
   "metadata": {},
   "outputs": [
    {
     "data": {
      "text/plain": [
       "array([1, 1, 1, 1, 1])"
      ]
     },
     "execution_count": 45,
     "metadata": {},
     "output_type": "execute_result"
    }
   ],
   "source": [
    "np.ones((5,), dtype=int)"
   ]
  },
  {
   "cell_type": "code",
   "execution_count": 46,
   "metadata": {},
   "outputs": [],
   "source": [
    "dim = 5\n",
    "shape = (dim,dim)"
   ]
  },
  {
   "cell_type": "code",
   "execution_count": 47,
   "metadata": {},
   "outputs": [],
   "source": [
    "J = np.ones(shape, dtype=int)\n",
    "K = np.zeros(shape, dtype=int)"
   ]
  },
  {
   "cell_type": "code",
   "execution_count": 48,
   "metadata": {},
   "outputs": [
    {
     "data": {
      "text/plain": [
       "array([[1, 1, 1, 1, 1],\n",
       "       [1, 1, 1, 1, 1],\n",
       "       [1, 1, 1, 1, 1],\n",
       "       [1, 1, 1, 1, 1],\n",
       "       [1, 1, 1, 1, 1]])"
      ]
     },
     "execution_count": 48,
     "metadata": {},
     "output_type": "execute_result"
    }
   ],
   "source": [
    "J"
   ]
  },
  {
   "cell_type": "code",
   "execution_count": 49,
   "metadata": {},
   "outputs": [
    {
     "data": {
      "text/plain": [
       "array([[0, 0, 0, 0, 0],\n",
       "       [0, 0, 0, 0, 0],\n",
       "       [0, 0, 0, 0, 0],\n",
       "       [0, 0, 0, 0, 0],\n",
       "       [0, 0, 0, 0, 0]])"
      ]
     },
     "execution_count": 49,
     "metadata": {},
     "output_type": "execute_result"
    }
   ],
   "source": [
    "K"
   ]
  },
  {
   "cell_type": "code",
   "execution_count": 50,
   "metadata": {},
   "outputs": [
    {
     "data": {
      "text/plain": [
       "array([[1, 1, 1, 1, 1],\n",
       "       [1, 1, 1, 1, 1],\n",
       "       [1, 1, 1, 1, 1],\n",
       "       [1, 1, 1, 1, 1],\n",
       "       [1, 1, 1, 1, 1]])"
      ]
     },
     "execution_count": 50,
     "metadata": {},
     "output_type": "execute_result"
    }
   ],
   "source": [
    "J - K"
   ]
  },
  {
   "cell_type": "code",
   "execution_count": 51,
   "metadata": {},
   "outputs": [
    {
     "data": {
      "text/plain": [
       "array([[1, 1, 1, 1, 1],\n",
       "       [1, 1, 1, 1, 1],\n",
       "       [1, 1, 1, 1, 1],\n",
       "       [1, 1, 1, 1, 1],\n",
       "       [1, 1, 1, 1, 1]])"
      ]
     },
     "execution_count": 51,
     "metadata": {},
     "output_type": "execute_result"
    }
   ],
   "source": [
    "np.subtract(J,K)"
   ]
  },
  {
   "cell_type": "code",
   "execution_count": 52,
   "metadata": {},
   "outputs": [],
   "source": [
    "from functools import reduce"
   ]
  },
  {
   "cell_type": "code",
   "execution_count": null,
   "metadata": {},
   "outputs": [],
   "source": []
  },
  {
   "cell_type": "code",
   "execution_count": 53,
   "metadata": {},
   "outputs": [
    {
     "data": {
      "text/plain": [
       "array([1, 3, 4, 5, 6])"
      ]
     },
     "execution_count": 53,
     "metadata": {},
     "output_type": "execute_result"
    }
   ],
   "source": [
    "reduce(np.union1d, ([[1, 3], [4, 3]],[[1, 3], [6, 5]]))"
   ]
  },
  {
   "cell_type": "code",
   "execution_count": 54,
   "metadata": {},
   "outputs": [
    {
     "data": {
      "text/plain": [
       "array([1, 3, 4, 5, 6])"
      ]
     },
     "execution_count": 54,
     "metadata": {},
     "output_type": "execute_result"
    }
   ],
   "source": [
    "reduce(np.union1d, ([[1, 3], [4, 3]],[[1, 3], [6, 5]]))"
   ]
  },
  {
   "cell_type": "code",
   "execution_count": 55,
   "metadata": {},
   "outputs": [],
   "source": [
    "random_matrix = np.random.randint(10,100,(dim,dim))"
   ]
  },
  {
   "cell_type": "code",
   "execution_count": 56,
   "metadata": {},
   "outputs": [
    {
     "data": {
      "text/plain": [
       "array([[50, 67, 39, 86, 45],\n",
       "       [57, 99, 99, 97, 70],\n",
       "       [21, 68, 82, 32, 56],\n",
       "       [10, 90, 68, 98, 66],\n",
       "       [58, 26, 47, 25, 42]])"
      ]
     },
     "execution_count": 56,
     "metadata": {},
     "output_type": "execute_result"
    }
   ],
   "source": [
    "random_matrix"
   ]
  },
  {
   "cell_type": "code",
   "execution_count": 57,
   "metadata": {},
   "outputs": [
    {
     "data": {
      "text/plain": [
       "array([[0.66493787, 0.01287774, 0.95366097, 0.21422744, 0.74424298],\n",
       "       [0.73997112, 0.66870995, 0.94005081, 0.42972924, 0.60496297],\n",
       "       [0.13673405, 0.4170249 , 0.23496611, 0.9189332 , 0.20436159],\n",
       "       [0.92861534, 0.46949068, 0.8408357 , 0.34717679, 0.97311297],\n",
       "       [0.69297769, 0.1049525 , 0.8367653 , 0.76895182, 0.03041987]])"
      ]
     },
     "execution_count": 57,
     "metadata": {},
     "output_type": "execute_result"
    }
   ],
   "source": [
    "np.random.rand(dim,dim)"
   ]
  },
  {
   "cell_type": "code",
   "execution_count": 58,
   "metadata": {},
   "outputs": [
    {
     "name": "stdout",
     "output_type": "stream",
     "text": [
      "i 0\n",
      "\tj 0\n",
      "i 1\n",
      "\tj 1\n",
      "i 2\n",
      "\tj 2\n",
      "i 3\n",
      "\tj 3\n",
      "i 4\n",
      "\tj 4\n",
      "i 5\n",
      "i 6\n",
      "i 7\n",
      "i 8\n",
      "i 9\n"
     ]
    }
   ],
   "source": [
    "for i, j in it.zip_longest(range(10), range(5), fillvalue='-'):\n",
    "    print(\"i\",i)\n",
    "    \n",
    "    if j == '-':\n",
    "        continue\n",
    "    print(\"\\tj\",j)"
   ]
  },
  {
   "cell_type": "code",
   "execution_count": 59,
   "metadata": {},
   "outputs": [
    {
     "data": {
      "text/plain": [
       "[(65673, 101, 64467), (9167, 142, 62103), (57489, 92, 49412)]"
      ]
     },
     "execution_count": 59,
     "metadata": {},
     "output_type": "execute_result"
    }
   ],
   "source": [
    "b = [(65673, 101, 64467), (9167, 142, 62103),(57489, 92, 49412)]\n",
    "b"
   ]
  },
  {
   "cell_type": "code",
   "execution_count": 60,
   "metadata": {},
   "outputs": [
    {
     "data": {
      "text/plain": [
       "[(52768, 47, 52771),\n",
       " (50227, 359, 43023),\n",
       " (35313, 142, 54185),\n",
       " (3976, 83, 58208),\n",
       " (64206, 193, 33386)]"
      ]
     },
     "execution_count": 60,
     "metadata": {},
     "output_type": "execute_result"
    }
   ],
   "source": [
    "a = [(52768, 47, 52771), (50227, 359, 43023), (35313, 142, 54185), (3976, 83, 58208),(64206, 193, 33386)]\n",
    "a"
   ]
  },
  {
   "cell_type": "code",
   "execution_count": 61,
   "metadata": {},
   "outputs": [
    {
     "name": "stdout",
     "output_type": "stream",
     "text": [
      "type(a) <class 'list'> len(a) 5\n",
      "type(b) <class 'list'> len(b) 3\n"
     ]
    }
   ],
   "source": [
    "print(\"type(a)\",type(a),\"len(a)\",len(a))\n",
    "print(\"type(b)\",type(b),\"len(b)\",len(b))"
   ]
  },
  {
   "cell_type": "code",
   "execution_count": 62,
   "metadata": {},
   "outputs": [
    {
     "name": "stdout",
     "output_type": "stream",
     "text": [
      "i 0\n",
      "\tj 0\n",
      "i 1\n",
      "\tj 1\n",
      "i 2\n",
      "\tj 2\n",
      "i 3\n",
      "i 4\n"
     ]
    }
   ],
   "source": [
    "for i, j in it.zip_longest(range(len(a)), range(len(b)), fillvalue='-'):\n",
    "    print(\"i\",i)\n",
    "    \n",
    "    if j == '-':\n",
    "        continue\n",
    "    print(\"\\tj\",j)"
   ]
  },
  {
   "cell_type": "code",
   "execution_count": null,
   "metadata": {},
   "outputs": [],
   "source": []
  },
  {
   "cell_type": "code",
   "execution_count": null,
   "metadata": {},
   "outputs": [],
   "source": []
  },
  {
   "cell_type": "code",
   "execution_count": null,
   "metadata": {},
   "outputs": [],
   "source": []
  },
  {
   "cell_type": "code",
   "execution_count": 149,
   "metadata": {},
   "outputs": [],
   "source": [
    "a = [(23, 17, 44),(71, 73, 13), (591, 93, 622), (111, 13, 42), (595, 23, 62), (121, 19, 48), (9, 23, 38), (1, 9, 3), (9, 5, 4)]\n",
    "b = [(2, 1, 44), (24, 2, 25), (14, 19, 563), (79, 7, 14)]"
   ]
  },
  {
   "cell_type": "code",
   "execution_count": 64,
   "metadata": {},
   "outputs": [
    {
     "data": {
      "text/plain": [
       "9"
      ]
     },
     "execution_count": 64,
     "metadata": {},
     "output_type": "execute_result"
    }
   ],
   "source": [
    "len(a)"
   ]
  },
  {
   "cell_type": "code",
   "execution_count": 65,
   "metadata": {},
   "outputs": [
    {
     "data": {
      "text/plain": [
       "4"
      ]
     },
     "execution_count": 65,
     "metadata": {},
     "output_type": "execute_result"
    }
   ],
   "source": [
    "len(b)"
   ]
  },
  {
   "cell_type": "code",
   "execution_count": 66,
   "metadata": {},
   "outputs": [],
   "source": [
    "def test():\n",
    "    positive, negative, positive_s, negative_s = list(), list(), list(), list()\n",
    "    for i, j in it.zip_longest(range(len(a)), range(len(b)), fillvalue='-'):\n",
    "        h, r, t = a[i]\n",
    "    \n",
    "        if j == '-':\n",
    "            continue\n",
    "        h_s, r_s, t_s = b[j]\n",
    "    \n",
    "        if len(a) == 0 or len(a) <= 5 and len(b) == 0 or len(b) <= 5:\n",
    "            positive.append(a[i])  # Formation of a positive set\n",
    "            positive_s.append(b[j])  # Formation of a positive set\n",
    "        else:\n",
    "            yield positive, positive_s\n",
    "            positive, positive_s = [a[i]],[b[j]]\n",
    "\n",
    "    if len(a)!=0 or len(b)!=0:\n",
    "        yield positive, positive_s\n",
    "            "
   ]
  },
  {
   "cell_type": "code",
   "execution_count": 67,
   "metadata": {},
   "outputs": [
    {
     "name": "stdout",
     "output_type": "stream",
     "text": [
      "positive [(23, 17, 44), (71, 73, 13), (591, 93, 622), (111, 13, 42)]\n",
      "positive_s [(2, 1, 44), (24, 2, 25), (14, 19, 563), (79, 7, 14)]\n"
     ]
    }
   ],
   "source": [
    "for positive, positive_s in test():\n",
    "    print(\"positive\", positive)\n",
    "    print(\"positive_s\", positive_s)"
   ]
  },
  {
   "cell_type": "code",
   "execution_count": null,
   "metadata": {},
   "outputs": [],
   "source": []
  },
  {
   "cell_type": "code",
   "execution_count": 123,
   "metadata": {},
   "outputs": [],
   "source": [
    "a = [(23, 17, 44),(71, 73, 13), (591, 93, 622), (111, 13, 42), (595, 23, 62), (121, 19, 48), (9, 23, 38), (1, 9, 3), (9, 5, 4)]\n",
    "b = [(2, 1, 44), (24, 2, 25), (14, 19, 563), (79, 7, 14)]"
   ]
  },
  {
   "cell_type": "code",
   "execution_count": 152,
   "metadata": {},
   "outputs": [
    {
     "data": {
      "text/plain": [
       "[(2, 1, 44), (24, 2, 25), (14, 19, 563), (79, 7, 14), (0, 0, 0)]"
      ]
     },
     "execution_count": 152,
     "metadata": {},
     "output_type": "execute_result"
    }
   ],
   "source": [
    "b.append((0,0,0))\n",
    "b\n",
    "# gives IndexError: Cannot choose from an empty sequence"
   ]
  },
  {
   "cell_type": "code",
   "execution_count": 153,
   "metadata": {},
   "outputs": [],
   "source": [
    "def test1():\n",
    "    positive, negative, positive_s, negative_s = list(), list(), list(), list()\n",
    "    for i, j in it.zip_longest(range(len(a)), range(len(b)), fillvalue=-1):\n",
    "        h, r, t = a[i]\n",
    "        h_s, r_s, t_s = b[j]\n",
    "    \n",
    "        if len(a) == 0 or len(a) <= 5 and len(b) == 0 or len(b) <= 5:\n",
    "            positive.append(a[i])  # Formation of a positive set\n",
    "            positive_s.append(b[j])  # Formation of a positive set\n",
    "        else:\n",
    "            yield positive, positive_s\n",
    "            positive, positive_s = [a[i]],[b[j]]\n",
    "\n",
    "    if len(a)!=0 and len(b)!=0:\n",
    "        yield positive, positive_s\n",
    "            "
   ]
  },
  {
   "cell_type": "code",
   "execution_count": 154,
   "metadata": {},
   "outputs": [
    {
     "name": "stdout",
     "output_type": "stream",
     "text": [
      "positive [(23, 17, 44), (71, 73, 13), (591, 93, 622), (111, 13, 42), (595, 23, 62), (121, 19, 48), (9, 23, 38), (1, 9, 3), (9, 5, 4)]\n",
      "positive_s [(2, 1, 44), (24, 2, 25), (14, 19, 563), (79, 7, 14), (0, 0, 0), (0, 0, 0), (0, 0, 0), (0, 0, 0), (0, 0, 0)]\n"
     ]
    }
   ],
   "source": [
    "for positive, positive_s in test1():\n",
    "    print(\"positive\", positive)\n",
    "    print(\"positive_s\", positive_s)"
   ]
  },
  {
   "cell_type": "code",
   "execution_count": 145,
   "metadata": {},
   "outputs": [
    {
     "data": {
      "text/plain": [
       "9"
      ]
     },
     "execution_count": 145,
     "metadata": {},
     "output_type": "execute_result"
    }
   ],
   "source": [
    "len(positive_s)"
   ]
  },
  {
   "cell_type": "code",
   "execution_count": null,
   "metadata": {},
   "outputs": [],
   "source": []
  },
  {
   "cell_type": "code",
   "execution_count": 184,
   "metadata": {},
   "outputs": [],
   "source": [
    "# Say I have 2 list of tuples of different lengths and I want to process them\n",
    "# Such that I get the complete list a and b, in current situation I am just getting the smaller list\n",
    "a = [(23, 17, 44),(71, 73, 13), (591, 93, 622), (111, 13, 42), (595, 23, 62), (121, 19, 48), (9, 23, 38), (1, 9, 3), (9, 5, 4)]\n",
    "b = [(2, 1, 44), (24, 2, 25), (14, 19, 563), (79, 7, 14)]"
   ]
  },
  {
   "cell_type": "code",
   "execution_count": 185,
   "metadata": {},
   "outputs": [
    {
     "name": "stdout",
     "output_type": "stream",
     "text": [
      "a: 9 \n",
      "b: 4\n"
     ]
    }
   ],
   "source": [
    "print(\"a:\",len(a),\"\\nb:\",len(b))"
   ]
  },
  {
   "cell_type": "code",
   "execution_count": 186,
   "metadata": {},
   "outputs": [],
   "source": [
    "def combined_corruptions_train():\n",
    "    '''genereates the corrouption for both the sets and returns the positive and negative triplets for both'''\n",
    "    p1, p2 = list(), list()\n",
    "    for i, j in it.zip_longest(range(len(a)), range(len(b)), fillvalue='-'):\n",
    "        h, r, t = a[i]    \n",
    "        \n",
    "        if j == '-':\n",
    "            continue\n",
    "        h_s, r_s, t_s = b[j]\n",
    "        \n",
    "        if len(a) == 0 or len(a) <= 5 and len(b) == 0 or len(b) <= 5:\n",
    "            p1.append(a[i])\n",
    "            p2.append(b[j])\n",
    "        else:\n",
    "            yield p1, p2\n",
    "            p1, p2 = [a[i]],[b[j]]\n",
    "\n",
    "    if len(a)!=0 or len(b)!=0:\n",
    "        yield p1, p2"
   ]
  },
  {
   "cell_type": "code",
   "execution_count": 187,
   "metadata": {},
   "outputs": [
    {
     "name": "stdout",
     "output_type": "stream",
     "text": [
      "positive [(23, 17, 44), (71, 73, 13), (591, 93, 622), (111, 13, 42)]\n",
      "positive_s [(2, 1, 44), (24, 2, 25), (14, 19, 563), (79, 7, 14)]\n"
     ]
    }
   ],
   "source": [
    "for positive, positive_s in combined_corruptions_train():\n",
    "    print(\"positive\", positive)\n",
    "    print(\"positive_s\", positive_s)"
   ]
  },
  {
   "cell_type": "code",
   "execution_count": null,
   "metadata": {},
   "outputs": [],
   "source": []
  },
  {
   "cell_type": "markdown",
   "metadata": {},
   "source": [
    "### Vectorising"
   ]
  },
  {
   "cell_type": "code",
   "execution_count": 217,
   "metadata": {},
   "outputs": [],
   "source": [
    "import random\n",
    "from collections import defaultdict"
   ]
  },
  {
   "cell_type": "code",
   "execution_count": 219,
   "metadata": {},
   "outputs": [],
   "source": [
    "a = [(23, 17, 44),(71, 73, 13), (591, 93, 622), (111, 13, 42), (595, 23, 62), (121, 19, 48), (9, 23, 38), (1, 9, 3), (9, 5, 4)]\n",
    "b = [(2, 1, 44), (24, 2, 25), (14, 19, 563), (79, 7, 14)]"
   ]
  },
  {
   "cell_type": "code",
   "execution_count": 220,
   "metadata": {},
   "outputs": [
    {
     "data": {
      "text/plain": [
       "array([[ 23,  17,  44],\n",
       "       [ 71,  73,  13],\n",
       "       [591,  93, 622],\n",
       "       [111,  13,  42],\n",
       "       [595,  23,  62],\n",
       "       [121,  19,  48],\n",
       "       [  9,  23,  38],\n",
       "       [  1,   9,   3],\n",
       "       [  9,   5,   4]])"
      ]
     },
     "execution_count": 220,
     "metadata": {},
     "output_type": "execute_result"
    }
   ],
   "source": [
    "x = np.array(a)\n",
    "x"
   ]
  },
  {
   "cell_type": "code",
   "execution_count": null,
   "metadata": {},
   "outputs": [],
   "source": []
  },
  {
   "cell_type": "code",
   "execution_count": null,
   "metadata": {},
   "outputs": [],
   "source": [
    "x = np.squeeze(x)  # or\n",
    "# x = x.reshape(45, 5785)  # or\n",
    "# x[:,0] Access columns"
   ]
  },
  {
   "cell_type": "code",
   "execution_count": null,
   "metadata": {},
   "outputs": [],
   "source": []
  },
  {
   "cell_type": "code",
   "execution_count": null,
   "metadata": {},
   "outputs": [],
   "source": []
  },
  {
   "cell_type": "code",
   "execution_count": null,
   "metadata": {},
   "outputs": [],
   "source": []
  },
  {
   "cell_type": "code",
   "execution_count": null,
   "metadata": {},
   "outputs": [],
   "source": []
  }
 ],
 "metadata": {
  "kernelspec": {
   "display_name": "Python 3",
   "language": "python",
   "name": "python3"
  },
  "language_info": {
   "codemirror_mode": {
    "name": "ipython",
    "version": 3
   },
   "file_extension": ".py",
   "mimetype": "text/x-python",
   "name": "python",
   "nbconvert_exporter": "python",
   "pygments_lexer": "ipython3",
   "version": "3.6.5"
  }
 },
 "nbformat": 4,
 "nbformat_minor": 2
}
