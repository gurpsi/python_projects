{
 "cells": [
  {
   "cell_type": "code",
   "execution_count": 57,
   "metadata": {},
   "outputs": [],
   "source": [
    "import pandas as pd\n",
    "import numpy as np\n",
    "import pathlib\n",
    "import os"
   ]
  },
  {
   "cell_type": "code",
   "execution_count": 58,
   "metadata": {},
   "outputs": [],
   "source": [
    "df_train = pd.read_csv(\"training_1000.nt\",sep = ' ', header = None)\n",
    "df_unseen = pd.read_csv(\"unseen_entities_1000.txt\",sep = ' ', header = None)\n",
    "df_val = pd.read_csv(\"validation_1000.nt\",sep = ' ', header = None)\n",
    "df_test = pd.read_csv(\"test_1000.nt\",sep = ' ', header = None)\n",
    "df_aux = pd.read_csv(\"auxiliary_1000.nt\",sep = ' ', header = None)"
   ]
  },
  {
   "cell_type": "code",
   "execution_count": 59,
   "metadata": {},
   "outputs": [
    {
     "name": "stdout",
     "output_type": "stream",
     "text": [
      "df_train.shape (129743, 4)\n",
      "df_unseen.shape (1000, 1)\n",
      "df_val.shape (5000, 4)\n",
      "df_test.shape (1000, 4)\n",
      "df_aux.shape (10529, 4)\n"
     ]
    }
   ],
   "source": [
    "print(\"df_train.shape\",df_train.shape)\n",
    "print(\"df_unseen.shape\",df_unseen.shape)\n",
    "print(\"df_val.shape\",df_val.shape)\n",
    "print(\"df_test.shape\",df_test.shape)\n",
    "print(\"df_aux.shape\",df_aux.shape)"
   ]
  },
  {
   "cell_type": "code",
   "execution_count": 60,
   "metadata": {},
   "outputs": [],
   "source": [
    "string = 'http://www.w3.org/1999/02/22-rdf-syntax-ns#type'\n",
    "df_train_s = df_train[df_train[1].str.contains(string)]\n",
    "df_aux_s = df_aux[df_aux[1].str.contains(string)]\n",
    "df_val_s = df_val[df_val[1].str.contains(string)]"
   ]
  },
  {
   "cell_type": "code",
   "execution_count": 61,
   "metadata": {},
   "outputs": [
    {
     "name": "stdout",
     "output_type": "stream",
     "text": [
      "df_train_s.shape (24779, 4)\n",
      "df_val_s.shape (1723, 4)\n",
      "df_aux_s.shape (4474, 4)\n"
     ]
    }
   ],
   "source": [
    "print(\"df_train_s.shape\",df_train_s.shape)\n",
    "print(\"df_val_s.shape\",df_val_s.shape)\n",
    "print(\"df_aux_s.shape\",df_aux_s.shape)"
   ]
  },
  {
   "cell_type": "code",
   "execution_count": 62,
   "metadata": {},
   "outputs": [],
   "source": [
    "# creating a dataframe of non schema entities as df_ns\n",
    "df_train_ns = df_train.merge(df_train_s, indicator=True, how=\"left\")[lambda x: x._merge=='left_only'].drop('_merge',1)\n",
    "df_aux_ns = df_aux.merge(df_aux_s, indicator=True, how=\"left\")[lambda x: x._merge=='left_only'].drop('_merge',1)\n",
    "df_val_ns = df_val.merge(df_val_s, indicator=True, how=\"left\")[lambda x: x._merge=='left_only'].drop('_merge',1)"
   ]
  },
  {
   "cell_type": "code",
   "execution_count": 63,
   "metadata": {},
   "outputs": [
    {
     "name": "stdout",
     "output_type": "stream",
     "text": [
      "df_train_ns.shape (104964, 4)\n",
      "df_val_ns.shape (3277, 4)\n",
      "df_aux_ns.shape (6055, 4)\n"
     ]
    }
   ],
   "source": [
    "print(\"df_train_ns.shape\",df_train_ns.shape)\n",
    "print(\"df_val_ns.shape\",df_val_ns.shape)\n",
    "print(\"df_aux_ns.shape\",df_aux_ns.shape)"
   ]
  },
  {
   "cell_type": "code",
   "execution_count": 64,
   "metadata": {},
   "outputs": [
    {
     "name": "stdout",
     "output_type": "stream",
     "text": [
      "A New Directory is created, named: 'Schema_and_Non'\n"
     ]
    }
   ],
   "source": [
    "path = os.getcwd()\n",
    "pathlib.Path(path+'/Schema_and_Non').mkdir(parents=True, exist_ok=True)\n",
    "print(\"A New Directory is created, named: 'Schema_and_Non'\")"
   ]
  },
  {
   "cell_type": "code",
   "execution_count": 56,
   "metadata": {},
   "outputs": [],
   "source": [
    "# Writing things on to the file\n",
    "path = os.getcwd()+'/Schema_and_Non/'\n",
    "df_train_ns.to_csv(path+'train_ns',sep=' ', header=False, index=False, encoding = \"utf-8\")\n",
    "df_train_s.to_csv(path+'train_s',sep=' ', header=False, index=False, encoding = \"utf-8\")\n",
    "\n",
    "df_aux_ns.to_csv(path+'aux_ns',sep=' ', header=False, index=False, encoding = \"utf-8\")\n",
    "df_aux_s.to_csv(path+'aux_s',sep=' ', header=False, index=False, encoding = \"utf-8\")\n",
    "\n",
    "df_val_ns.to_csv(path+'val_ns',sep=' ', header=False, index=False, encoding = \"utf-8\")\n",
    "df_val_s.to_csv(path+'val_s',sep=' ', header=False, index=False, encoding = \"utf-8\")"
   ]
  },
  {
   "cell_type": "code",
   "execution_count": null,
   "metadata": {},
   "outputs": [],
   "source": []
  },
  {
   "cell_type": "code",
   "execution_count": null,
   "metadata": {},
   "outputs": [],
   "source": []
  }
 ],
 "metadata": {
  "kernelspec": {
   "display_name": "Python 3",
   "language": "python",
   "name": "python3"
  },
  "language_info": {
   "codemirror_mode": {
    "name": "ipython",
    "version": 3
   },
   "file_extension": ".py",
   "mimetype": "text/x-python",
   "name": "python",
   "nbconvert_exporter": "python",
   "pygments_lexer": "ipython3",
   "version": "3.6.5"
  }
 },
 "nbformat": 4,
 "nbformat_minor": 2
}
