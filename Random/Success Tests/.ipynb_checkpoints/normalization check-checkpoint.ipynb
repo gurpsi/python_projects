{
 "cells": [
  {
   "cell_type": "code",
   "execution_count": 2,
   "metadata": {},
   "outputs": [],
   "source": [
    "import chainer\n",
    "import chainer.functions as F\n",
    "import chainer.links as L\n",
    "import numpy as np"
   ]
  },
  {
   "cell_type": "code",
   "execution_count": 34,
   "metadata": {},
   "outputs": [],
   "source": [
    "pos_s = np.array([[5.4, 6.4], [3.4, 9.0], [2.4, 3.46],[4.54, 1.42], [2.5, 3.66]], dtype = np.float32)\n",
    "pos = np.array([[3.4, 3.4], [1.2, 9.2], [4.5, 3.6], [4.34, 4.2], [5.9, 6.6]], dtype = np.float32)"
   ]
  },
  {
   "cell_type": "code",
   "execution_count": 35,
   "metadata": {},
   "outputs": [
    {
     "data": {
      "text/plain": [
       "array([[5.4 , 6.4 ],\n",
       "       [3.4 , 9.  ],\n",
       "       [2.4 , 3.46],\n",
       "       [4.54, 1.42],\n",
       "       [2.5 , 3.66]], dtype=float32)"
      ]
     },
     "execution_count": 35,
     "metadata": {},
     "output_type": "execute_result"
    }
   ],
   "source": [
    "pos_s"
   ]
  },
  {
   "cell_type": "code",
   "execution_count": 36,
   "metadata": {},
   "outputs": [
    {
     "data": {
      "text/plain": [
       "(5, 2)"
      ]
     },
     "execution_count": 36,
     "metadata": {},
     "output_type": "execute_result"
    }
   ],
   "source": [
    "pos_s.shape"
   ]
  },
  {
   "cell_type": "code",
   "execution_count": 37,
   "metadata": {},
   "outputs": [
    {
     "data": {
      "text/plain": [
       "variable([70.12    , 92.56    , 17.731602, 22.627998, 19.6456  ])"
      ]
     },
     "execution_count": 37,
     "metadata": {},
     "output_type": "execute_result"
    }
   ],
   "source": [
    "F.batch_l2_norm_squared(pos_s)"
   ]
  },
  {
   "cell_type": "code",
   "execution_count": 38,
   "metadata": {},
   "outputs": [
    {
     "data": {
      "text/plain": [
       "(5,)"
      ]
     },
     "execution_count": 38,
     "metadata": {},
     "output_type": "execute_result"
    }
   ],
   "source": [
    "F.batch_l2_norm_squared(pos_s).shape"
   ]
  },
  {
   "cell_type": "code",
   "execution_count": 39,
   "metadata": {},
   "outputs": [
    {
     "data": {
      "text/plain": [
       "variable([173.48001, 352.40002,  97.4536 , 110.4388 , 175.82759])"
      ]
     },
     "execution_count": 39,
     "metadata": {},
     "output_type": "execute_result"
    }
   ],
   "source": [
    "F.batch_l2_norm_squared(pos_s+pos)"
   ]
  },
  {
   "cell_type": "code",
   "execution_count": 40,
   "metadata": {},
   "outputs": [],
   "source": [
    "shape = (5,5)"
   ]
  },
  {
   "cell_type": "code",
   "execution_count": 41,
   "metadata": {},
   "outputs": [
    {
     "data": {
      "text/plain": [
       "array([[1., 1., 1., 1., 1.],\n",
       "       [1., 1., 1., 1., 1.],\n",
       "       [1., 1., 1., 1., 1.],\n",
       "       [1., 1., 1., 1., 1.],\n",
       "       [1., 1., 1., 1., 1.]], dtype=float32)"
      ]
     },
     "execution_count": 41,
     "metadata": {},
     "output_type": "execute_result"
    }
   ],
   "source": [
    "J = np.ones(shape, dtype=np.float32)\n",
    "J"
   ]
  },
  {
   "cell_type": "code",
   "execution_count": 54,
   "metadata": {},
   "outputs": [
    {
     "data": {
      "text/plain": [
       "array([[0.08108885, 0.80774875, 0.30580262, 0.55977343, 0.05947049],\n",
       "       [0.50546665, 0.82721494, 0.86189208, 0.07790984, 0.48597976],\n",
       "       [0.99218736, 0.05438928, 0.37582199, 0.35551431, 0.05788889],\n",
       "       [0.13259222, 0.28244115, 0.77972804, 0.44943161, 0.18938099],\n",
       "       [0.68944069, 0.10616912, 0.26556535, 0.312519  , 0.61445226]])"
      ]
     },
     "execution_count": 54,
     "metadata": {},
     "output_type": "execute_result"
    }
   ],
   "source": [
    "random_matrix = np.random.rand(5,5)\n",
    "random_matrix"
   ]
  },
  {
   "cell_type": "code",
   "execution_count": 55,
   "metadata": {},
   "outputs": [
    {
     "data": {
      "text/plain": [
       "dtype('float64')"
      ]
     },
     "execution_count": 55,
     "metadata": {},
     "output_type": "execute_result"
    }
   ],
   "source": [
    "random_matrix.dtype"
   ]
  },
  {
   "cell_type": "code",
   "execution_count": 56,
   "metadata": {},
   "outputs": [
    {
     "data": {
      "text/plain": [
       "dtype('float32')"
      ]
     },
     "execution_count": 56,
     "metadata": {},
     "output_type": "execute_result"
    }
   ],
   "source": [
    "random_matrix = random_matrix.astype(np.float32)\n",
    "random_matrix.dtype"
   ]
  },
  {
   "cell_type": "code",
   "execution_count": 60,
   "metadata": {},
   "outputs": [
    {
     "data": {
      "text/plain": [
       "array([[0.91891116, 0.19225127, 0.6941974 , 0.44022655, 0.9405295 ],\n",
       "       [0.49453336, 0.17278504, 0.1381079 , 0.9220902 , 0.5140202 ],\n",
       "       [0.00781262, 0.9456107 , 0.624178  , 0.6444857 , 0.94211113],\n",
       "       [0.8674078 , 0.71755886, 0.22027194, 0.55056834, 0.810619  ],\n",
       "       [0.31055933, 0.8938309 , 0.73443466, 0.68748105, 0.38554776]],\n",
       "      dtype=float32)"
      ]
     },
     "execution_count": 60,
     "metadata": {},
     "output_type": "execute_result"
    }
   ],
   "source": [
    "sub = np.subtract(J, random_matrix)\n",
    "sub"
   ]
  },
  {
   "cell_type": "code",
   "execution_count": 61,
   "metadata": {},
   "outputs": [
    {
     "data": {
      "text/plain": [
       "array([[0.91891116, 0.19225127, 0.6941974 , 0.44022655, 0.9405295 ],\n",
       "       [0.49453336, 0.17278504, 0.1381079 , 0.9220902 , 0.5140202 ],\n",
       "       [0.00781262, 0.9456107 , 0.624178  , 0.6444857 , 0.94211113],\n",
       "       [0.8674078 , 0.71755886, 0.22027194, 0.55056834, 0.810619  ],\n",
       "       [0.31055933, 0.8938309 , 0.73443466, 0.68748105, 0.38554776]],\n",
       "      dtype=float32)"
      ]
     },
     "execution_count": 61,
     "metadata": {},
     "output_type": "execute_result"
    }
   ],
   "source": [
    "sub = chainer.Variable(sub)\n",
    "sub.data"
   ]
  },
  {
   "cell_type": "code",
   "execution_count": 62,
   "metadata": {},
   "outputs": [
    {
     "data": {
      "text/plain": [
       "(5, 5)"
      ]
     },
     "execution_count": 62,
     "metadata": {},
     "output_type": "execute_result"
    }
   ],
   "source": [
    "random_matrix.shape"
   ]
  },
  {
   "cell_type": "code",
   "execution_count": 84,
   "metadata": {},
   "outputs": [
    {
     "data": {
      "text/plain": [
       "variable([[ 6.6081996,  9.859324 ],\n",
       "          [ 9.179252 , 15.551385 ],\n",
       "          [ 8.203465 ,  8.85655  ],\n",
       "          [ 6.0615177,  7.4197464],\n",
       "          [ 7.6762786,  8.979471 ]])"
      ]
     },
     "execution_count": 84,
     "metadata": {},
     "output_type": "execute_result"
    }
   ],
   "source": [
    "ap = F.matmul(chainer.Variable(random_matrix),pos_s)\n",
    "ap"
   ]
  },
  {
   "cell_type": "code",
   "execution_count": 85,
   "metadata": {},
   "outputs": [
    {
     "data": {
      "text/plain": [
       "(5, 2)"
      ]
     },
     "execution_count": 85,
     "metadata": {},
     "output_type": "execute_result"
    }
   ],
   "source": [
    "ap.shape"
   ]
  },
  {
   "cell_type": "code",
   "execution_count": 86,
   "metadata": {},
   "outputs": [
    {
     "data": {
      "text/plain": [
       "variable([[ 5.4014053, 11.551434 ],\n",
       "          [ 9.795169 , 15.966463 ],\n",
       "          [ 7.01438  ,  7.1020045],\n",
       "          [ 7.3664002,  8.99382  ],\n",
       "          [ 8.648146 ,  9.644854 ]])"
      ]
     },
     "execution_count": 86,
     "metadata": {},
     "output_type": "execute_result"
    }
   ],
   "source": [
    "bp = F.matmul(chainer.Variable(random_matrix),pos)\n",
    "bp"
   ]
  },
  {
   "cell_type": "code",
   "execution_count": 98,
   "metadata": {},
   "outputs": [
    {
     "data": {
      "text/plain": [
       "variable([140.87457, 326.10422, 145.73532,  91.79463, 139.55615])"
      ]
     },
     "execution_count": 98,
     "metadata": {},
     "output_type": "execute_result"
    }
   ],
   "source": [
    "ap1 = F.batch_l2_norm_squared(ap)\n",
    "ap1"
   ]
  },
  {
   "cell_type": "code",
   "execution_count": 99,
   "metadata": {},
   "outputs": [
    {
     "data": {
      "text/plain": [
       "variable([162.61081, 350.8733 ,  99.64   , 135.15265, 167.81363])"
      ]
     },
     "execution_count": 99,
     "metadata": {},
     "output_type": "execute_result"
    }
   ],
   "source": [
    "bp1 = F.batch_l2_norm_squared(bp)\n",
    "bp1"
   ]
  },
  {
   "cell_type": "code",
   "execution_count": 100,
   "metadata": {},
   "outputs": [
    {
     "data": {
      "text/plain": [
       "(5,)"
      ]
     },
     "execution_count": 100,
     "metadata": {},
     "output_type": "execute_result"
    }
   ],
   "source": [
    "ap1.shape"
   ]
  },
  {
   "cell_type": "code",
   "execution_count": 101,
   "metadata": {},
   "outputs": [
    {
     "data": {
      "text/plain": [
       "variable([[140.87457],\n",
       "          [326.10422],\n",
       "          [145.73532],\n",
       "          [ 91.79463],\n",
       "          [139.55615]])"
      ]
     },
     "execution_count": 101,
     "metadata": {},
     "output_type": "execute_result"
    }
   ],
   "source": [
    "ap1 = F.reshape(ap1,(ap1.shape[0],1))\n",
    "ap1"
   ]
  },
  {
   "cell_type": "code",
   "execution_count": 102,
   "metadata": {},
   "outputs": [
    {
     "data": {
      "text/plain": [
       "variable([[162.61081],\n",
       "          [350.8733 ],\n",
       "          [ 99.64   ],\n",
       "          [135.15265],\n",
       "          [167.81363]])"
      ]
     },
     "execution_count": 102,
     "metadata": {},
     "output_type": "execute_result"
    }
   ],
   "source": [
    "bp1 = bp1.reshape(bp1.shape[0],1)\n",
    "bp1"
   ]
  },
  {
   "cell_type": "code",
   "execution_count": 103,
   "metadata": {},
   "outputs": [
    {
     "data": {
      "text/plain": [
       "(5, 1)"
      ]
     },
     "execution_count": 103,
     "metadata": {},
     "output_type": "execute_result"
    }
   ],
   "source": [
    "ap1.shape"
   ]
  },
  {
   "cell_type": "code",
   "execution_count": 104,
   "metadata": {},
   "outputs": [],
   "source": [
    "# F.swapaxes(ap1,0,1)"
   ]
  },
  {
   "cell_type": "code",
   "execution_count": 105,
   "metadata": {},
   "outputs": [],
   "source": [
    "# F.swapaxes(bp1,0,1)"
   ]
  },
  {
   "cell_type": "code",
   "execution_count": 106,
   "metadata": {},
   "outputs": [
    {
     "data": {
      "text/plain": [
       "variable([[140.87457, 162.61081],\n",
       "          [326.10422, 350.8733 ],\n",
       "          [145.73532,  99.64   ],\n",
       "          [ 91.79463, 135.15265],\n",
       "          [139.55615, 167.81363]])"
      ]
     },
     "execution_count": 106,
     "metadata": {},
     "output_type": "execute_result"
    }
   ],
   "source": [
    "temp_p = F.concat((ap1, bp1), axis = 1)\n",
    "temp_p"
   ]
  },
  {
   "cell_type": "code",
   "execution_count": 107,
   "metadata": {},
   "outputs": [
    {
     "data": {
      "text/plain": [
       "variable([[140.87457, 326.10422, 145.73532,  91.79463, 139.55615],\n",
       "          [162.61081, 350.8733 ,  99.64   , 135.15265, 167.81363]])"
      ]
     },
     "execution_count": 107,
     "metadata": {},
     "output_type": "execute_result"
    }
   ],
   "source": [
    "ax_p = F.swapaxes(temp_p,0,1)\n",
    "ax_p"
   ]
  },
  {
   "cell_type": "code",
   "execution_count": 114,
   "metadata": {},
   "outputs": [
    {
     "data": {
      "text/plain": [
       "variable([[162.61081],\n",
       "          [350.8733 ],\n",
       "          [145.73532],\n",
       "          [135.15265],\n",
       "          [167.81363]])"
      ]
     },
     "execution_count": 114,
     "metadata": {},
     "output_type": "execute_result"
    }
   ],
   "source": [
    "V_p_c = F.maxout(temp_p, len(ax_p))\n",
    "V_p_c"
   ]
  },
  {
   "cell_type": "code",
   "execution_count": 115,
   "metadata": {},
   "outputs": [
    {
     "data": {
      "text/plain": [
       "(5, 1)"
      ]
     },
     "execution_count": 115,
     "metadata": {},
     "output_type": "execute_result"
    }
   ],
   "source": [
    "V_p_c.shape"
   ]
  },
  {
   "cell_type": "code",
   "execution_count": 116,
   "metadata": {},
   "outputs": [
    {
     "data": {
      "text/plain": [
       "variable([162.61081, 350.8733 , 145.73532, 135.15265, 167.81363])"
      ]
     },
     "execution_count": 116,
     "metadata": {},
     "output_type": "execute_result"
    }
   ],
   "source": [
    "V_p_c.reshape(V_p_c.shape[0],)"
   ]
  },
  {
   "cell_type": "code",
   "execution_count": 117,
   "metadata": {},
   "outputs": [
    {
     "data": {
      "text/plain": [
       "variable([ 26442.275, 123112.06 ,  21238.783,  18266.238,  28161.414])"
      ]
     },
     "execution_count": 117,
     "metadata": {},
     "output_type": "execute_result"
    }
   ],
   "source": [
    "F.batch_l2_norm_squared(V_p_c)"
   ]
  },
  {
   "cell_type": "code",
   "execution_count": null,
   "metadata": {},
   "outputs": [],
   "source": []
  },
  {
   "cell_type": "code",
   "execution_count": 118,
   "metadata": {},
   "outputs": [],
   "source": [
    "t = np.random.rand(5,5)"
   ]
  },
  {
   "cell_type": "code",
   "execution_count": 119,
   "metadata": {},
   "outputs": [
    {
     "data": {
      "text/plain": [
       "dtype('float64')"
      ]
     },
     "execution_count": 119,
     "metadata": {},
     "output_type": "execute_result"
    }
   ],
   "source": [
    "t.dtype"
   ]
  },
  {
   "cell_type": "code",
   "execution_count": 120,
   "metadata": {},
   "outputs": [],
   "source": [
    "t = chainer.Variable(t)"
   ]
  },
  {
   "cell_type": "code",
   "execution_count": 124,
   "metadata": {},
   "outputs": [
    {
     "data": {
      "text/plain": [
       "dtype('float64')"
      ]
     },
     "execution_count": 124,
     "metadata": {},
     "output_type": "execute_result"
    }
   ],
   "source": [
    "t.data.dtype"
   ]
  },
  {
   "cell_type": "code",
   "execution_count": 126,
   "metadata": {},
   "outputs": [
    {
     "data": {
      "text/plain": [
       "array([[0.0770098 , 0.2886294 , 0.66112566, 0.48891205, 0.83388156],\n",
       "       [0.5395532 , 0.35461783, 0.76017827, 0.04788338, 0.5945393 ],\n",
       "       [0.17737924, 0.89092726, 0.86073446, 0.88915503, 0.66964626],\n",
       "       [0.8958446 , 0.75104964, 0.30137056, 0.8895184 , 0.48347288],\n",
       "       [0.37459463, 0.8117204 , 0.01982634, 0.7818003 , 0.42999482]],\n",
       "      dtype=float32)"
      ]
     },
     "execution_count": 126,
     "metadata": {},
     "output_type": "execute_result"
    }
   ],
   "source": [
    "t = t.data.astype(np.float32)\n",
    "t"
   ]
  },
  {
   "cell_type": "code",
   "execution_count": 127,
   "metadata": {},
   "outputs": [
    {
     "data": {
      "text/plain": [
       "variable([[0.0770098 , 0.2886294 , 0.66112566, 0.48891205, 0.83388156],\n",
       "          [0.5395532 , 0.35461783, 0.76017827, 0.04788338, 0.5945393 ],\n",
       "          [0.17737924, 0.89092726, 0.86073446, 0.88915503, 0.66964626],\n",
       "          [0.8958446 , 0.75104964, 0.30137056, 0.8895184 , 0.48347288],\n",
       "          [0.37459463, 0.8117204 , 0.01982634, 0.7818003 , 0.42999482]])"
      ]
     },
     "execution_count": 127,
     "metadata": {},
     "output_type": "execute_result"
    }
   ],
   "source": [
    "t = chainer.Variable(t)\n",
    "t"
   ]
  },
  {
   "cell_type": "code",
   "execution_count": 128,
   "metadata": {},
   "outputs": [
    {
     "data": {
      "text/plain": [
       "dtype('float32')"
      ]
     },
     "execution_count": 128,
     "metadata": {},
     "output_type": "execute_result"
    }
   ],
   "source": [
    "t.dtype"
   ]
  },
  {
   "cell_type": "code",
   "execution_count": null,
   "metadata": {},
   "outputs": [],
   "source": []
  }
 ],
 "metadata": {
  "kernelspec": {
   "display_name": "Python 3",
   "language": "python",
   "name": "python3"
  },
  "language_info": {
   "codemirror_mode": {
    "name": "ipython",
    "version": 3
   },
   "file_extension": ".py",
   "mimetype": "text/x-python",
   "name": "python",
   "nbconvert_exporter": "python",
   "pygments_lexer": "ipython3",
   "version": "3.6.5"
  }
 },
 "nbformat": 4,
 "nbformat_minor": 2
}
