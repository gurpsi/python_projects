{
 "cells": [
  {
   "cell_type": "code",
   "execution_count": 1,
   "metadata": {},
   "outputs": [],
   "source": [
    "import sys\n",
    "\n",
    "orig_stdout = sys.stdout\n",
    "f = open('out.txt', 'w')\n",
    "sys.stdout = f\n",
    "\n",
    "for i in range(2):\n",
    "    print ('i = ', i)\n",
    "\n",
    "sys.stdout = orig_stdout\n",
    "f.close()"
   ]
  },
  {
   "cell_type": "code",
   "execution_count": 2,
   "metadata": {},
   "outputs": [],
   "source": [
    "with open('file.txt', 'a') as f:\n",
    "    print('hello world', file=f)"
   ]
  },
  {
   "cell_type": "code",
   "execution_count": 5,
   "metadata": {},
   "outputs": [
    {
     "name": "stderr",
     "output_type": "stream",
     "text": [
      "  Hey, this is working!\n"
     ]
    },
    {
     "name": "stdout",
     "output_type": "stream",
     "text": [
      "bla\n"
     ]
    }
   ],
   "source": [
    "import logging\n",
    "\n",
    "level = logging.INFO\n",
    "format = '  %(message)s'\n",
    "handlers = [logging.FileHandler('filename.log'), logging.StreamHandler()]\n",
    "logging.basicConfig(level = level, format = format, handlers = handlers)\n",
    "print(\"bla\")\n",
    "logging.info('Hey, this is working!')"
   ]
  },
  {
   "cell_type": "code",
   "execution_count": 12,
   "metadata": {},
   "outputs": [
    {
     "name": "stdout",
     "output_type": "stream",
     "text": [
      "i =  0\n",
      "i =  1\n",
      "i =  2\n"
     ]
    }
   ],
   "source": [
    "import sys\n",
    "\n",
    "def print_in_file(x):\n",
    "    osrd = sys.stdout\n",
    "    f = open(\"test.txt\", \"w\")\n",
    "    sys.stdout = f\n",
    "\n",
    "    for i in range(x):\n",
    "        print(\"i =\", i)\n",
    "\n",
    "    sys.stdout = osrd\n",
    "    f.close()\n",
    "    \n",
    "\n",
    "\n",
    "# Define x, give any integer\n",
    "x = 3\n",
    "print_in_file(x)\n",
    "# To print in command line\n",
    "for i in range(x):\n",
    "    print(\"i = \", i)"
   ]
  },
  {
   "cell_type": "code",
   "execution_count": 10,
   "metadata": {},
   "outputs": [],
   "source": [
    "print('Hello', 'World', 2+3, file=open('file.txt', 'w'))"
   ]
  },
  {
   "cell_type": "code",
   "execution_count": 11,
   "metadata": {},
   "outputs": [
    {
     "name": "stdout",
     "output_type": "stream",
     "text": [
      "back to normal\n"
     ]
    }
   ],
   "source": [
    "import sys\n",
    "temp = sys.stdout                 # store original stdout object for later\n",
    "sys.stdout = open('log.txt', 'w') # redirect all prints to this log file\n",
    "print(\"testing123\")               # nothing appears at interactive prompt\n",
    "print(\"another line\")             # again nothing appears. it's written to log file instead\n",
    "sys.stdout.close()                # ordinary file object\n",
    "sys.stdout = temp                 # restore print commands to interactive prompt\n",
    "print(\"back to normal\")           # this shows up in the interactive prompt"
   ]
  },
  {
   "cell_type": "code",
   "execution_count": null,
   "metadata": {},
   "outputs": [],
   "source": []
  },
  {
   "cell_type": "code",
   "execution_count": 13,
   "metadata": {},
   "outputs": [
    {
     "name": "stdout",
     "output_type": "stream",
     "text": [
      "1\n"
     ]
    }
   ],
   "source": [
    "import sys\n",
    "\n",
    "temp = sys.stdout\n",
    "sys.stdout = open('out.txt', 'w')\n",
    "\n",
    "for i in range(2):\n",
    "    print ('i = ', i)\n",
    "    \n",
    "sys.stdout.close()\n",
    "sys.stdout = temp\n",
    "f.close()\n",
    "print(i)"
   ]
  },
  {
   "cell_type": "code",
   "execution_count": null,
   "metadata": {},
   "outputs": [],
   "source": []
  },
  {
   "cell_type": "code",
   "execution_count": null,
   "metadata": {},
   "outputs": [],
   "source": []
  },
  {
   "cell_type": "code",
   "execution_count": null,
   "metadata": {},
   "outputs": [],
   "source": []
  }
 ],
 "metadata": {
  "kernelspec": {
   "display_name": "Python 3",
   "language": "python",
   "name": "python3"
  },
  "language_info": {
   "codemirror_mode": {
    "name": "ipython",
    "version": 3
   },
   "file_extension": ".py",
   "mimetype": "text/x-python",
   "name": "python",
   "nbconvert_exporter": "python",
   "pygments_lexer": "ipython3",
   "version": "3.6.5"
  }
 },
 "nbformat": 4,
 "nbformat_minor": 2
}
