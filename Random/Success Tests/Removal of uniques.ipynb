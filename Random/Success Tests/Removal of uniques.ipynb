{
 "cells": [
  {
   "cell_type": "code",
   "execution_count": 23,
   "metadata": {},
   "outputs": [],
   "source": [
    "import numpy as np\n",
    "import pandas as pd\n",
    "import os\n",
    "import pathlib"
   ]
  },
  {
   "cell_type": "code",
   "execution_count": 16,
   "metadata": {},
   "outputs": [],
   "source": [
    "df_aux_ns = pd.read_csv(\"aux_ns\",header = None, sep = '\\t', names = [\"H\",\"R\",\"T\"])\n",
    "df_aux_s = pd.read_csv(\"aux_s\",header = None, sep = '\\t', names = [\"H\",\"R\",\"T\"])\n",
    "df_test = pd.read_csv(\"test\",header = None, sep = '\\t', names = [\"H\",\"R\",\"T\",\"L\"])\n",
    "df_train_ns = pd.read_csv(\"train_ns\",header = None, sep = '\\t', names = [\"H\",\"R\",\"T\"])\n",
    "df_train_s = pd.read_csv(\"train_s\",header = None, sep = '\\t', names = [\"H\",\"R\",\"T\"])\n",
    "df_val_ns = pd.read_csv(\"val_ns\",header = None, sep = '\\t', names = [\"H\",\"R\",\"T\",\"L\"])\n",
    "df_val_s = pd.read_csv(\"val_s\",header = None, sep = '\\t', names = [\"H\",\"R\",\"T\",\"L\"])"
   ]
  },
  {
   "cell_type": "code",
   "execution_count": 17,
   "metadata": {},
   "outputs": [
    {
     "name": "stdout",
     "output_type": "stream",
     "text": [
      "df_aux_ns shape: (6055, 3)\n",
      "df_aux_s shape: (4474, 3)\n",
      "df_test shape: (2000, 4)\n",
      "df_train_ns shape: (104964, 3)\n",
      "df_train_s shape: (24779, 3)\n",
      "df_val_ns shape: (6554, 4)\n",
      "df_val_s shape: (3446, 4)\n"
     ]
    }
   ],
   "source": [
    "print(\"df_aux_ns shape:\", df_aux_ns.shape)\n",
    "print(\"df_aux_s shape:\", df_aux_s.shape)\n",
    "print(\"df_test shape:\", df_test.shape)\n",
    "print(\"df_train_ns shape:\", df_train_ns.shape)\n",
    "print(\"df_train_s shape:\", df_train_s.shape)\n",
    "print(\"df_val_ns shape:\", df_val_ns.shape)\n",
    "print(\"df_val_s shape:\", df_val_s.shape)"
   ]
  },
  {
   "cell_type": "code",
   "execution_count": 18,
   "metadata": {},
   "outputs": [
    {
     "data": {
      "text/html": [
       "<div>\n",
       "<style scoped>\n",
       "    .dataframe tbody tr th:only-of-type {\n",
       "        vertical-align: middle;\n",
       "    }\n",
       "\n",
       "    .dataframe tbody tr th {\n",
       "        vertical-align: top;\n",
       "    }\n",
       "\n",
       "    .dataframe thead th {\n",
       "        text-align: right;\n",
       "    }\n",
       "</style>\n",
       "<table border=\"1\" class=\"dataframe\">\n",
       "  <thead>\n",
       "    <tr style=\"text-align: right;\">\n",
       "      <th></th>\n",
       "      <th>H</th>\n",
       "      <th>R</th>\n",
       "      <th>T</th>\n",
       "      <th>L</th>\n",
       "    </tr>\n",
       "  </thead>\n",
       "  <tbody>\n",
       "    <tr>\n",
       "      <th>0</th>\n",
       "      <td>60075</td>\n",
       "      <td>380</td>\n",
       "      <td>8559</td>\n",
       "      <td>0</td>\n",
       "    </tr>\n",
       "    <tr>\n",
       "      <th>1</th>\n",
       "      <td>16754</td>\n",
       "      <td>380</td>\n",
       "      <td>60579</td>\n",
       "      <td>0</td>\n",
       "    </tr>\n",
       "    <tr>\n",
       "      <th>2</th>\n",
       "      <td>43328</td>\n",
       "      <td>380</td>\n",
       "      <td>75797</td>\n",
       "      <td>0</td>\n",
       "    </tr>\n",
       "  </tbody>\n",
       "</table>\n",
       "</div>"
      ],
      "text/plain": [
       "       H    R      T  L\n",
       "0  60075  380   8559  0\n",
       "1  16754  380  60579  0\n",
       "2  43328  380  75797  0"
      ]
     },
     "execution_count": 18,
     "metadata": {},
     "output_type": "execute_result"
    }
   ],
   "source": [
    "df_val_s.head(3)"
   ]
  },
  {
   "cell_type": "code",
   "execution_count": 19,
   "metadata": {},
   "outputs": [],
   "source": [
    "df_aux_ns_d = df_aux_ns[df_aux_ns.duplicated('H', keep=False) & df_aux_ns.duplicated('T', keep=False)]\n",
    "df_aux_s_d = df_aux_s[df_aux_s.duplicated('H', keep=False) & df_aux_s.duplicated('T', keep=False)]\n",
    "df_test_d = df_test[df_test.duplicated('H', keep=False) & df_test.duplicated('T', keep=False)]\n",
    "df_train_ns_d = df_train_ns[df_train_ns.duplicated('H', keep=False) & df_train_ns.duplicated('T', keep=False)]\n",
    "df_train_s_d = df_train_s[df_train_s.duplicated('H', keep=False) & df_train_s.duplicated('T', keep=False)]\n",
    "df_val_ns_d = df_val_ns[df_val_ns.duplicated('H', keep=False) & df_val_ns.duplicated('T', keep=False)]\n",
    "df_val_s_d = df_val_s[df_val_s.duplicated('H', keep=False) & df_val_s.duplicated('T', keep=False)]"
   ]
  },
  {
   "cell_type": "code",
   "execution_count": 20,
   "metadata": {},
   "outputs": [
    {
     "name": "stdout",
     "output_type": "stream",
     "text": [
      "df_aux_ns_d shape: (4227, 3)\n",
      "df_aux_s_d shape: (4440, 3)\n",
      "df_test_d shape: (322, 4)\n",
      "df_train_ns_d shape: (43013, 3)\n",
      "df_train_s_d shape: (24309, 3)\n",
      "df_val_ns_d shape: (1708, 4)\n",
      "df_val_s_d shape: (1086, 4)\n"
     ]
    }
   ],
   "source": [
    "print(\"df_aux_ns_d shape:\", df_aux_ns_d.shape)\n",
    "print(\"df_aux_s_d shape:\", df_aux_s_d.shape)\n",
    "print(\"df_test_d shape:\", df_test_d.shape)\n",
    "print(\"df_train_ns_d shape:\", df_train_ns_d.shape)\n",
    "print(\"df_train_s_d shape:\", df_train_s_d.shape)\n",
    "print(\"df_val_ns_d shape:\", df_val_ns_d.shape)\n",
    "print(\"df_val_s_d shape:\", df_val_s_d.shape)"
   ]
  },
  {
   "cell_type": "code",
   "execution_count": 24,
   "metadata": {},
   "outputs": [
    {
     "name": "stdout",
     "output_type": "stream",
     "text": [
      "A New Directory is created, named: 'Uniques_Removed'\n"
     ]
    }
   ],
   "source": [
    "path = os.getcwd()\n",
    "pathlib.Path(path+'/Uniques_Removed').mkdir(parents=True, exist_ok=True)\n",
    "print(\"A New Directory is created, named: 'Uniques_Removed'\")"
   ]
  },
  {
   "cell_type": "code",
   "execution_count": 25,
   "metadata": {},
   "outputs": [
    {
     "data": {
      "text/plain": [
       "'/Users/gurpreet.ag.singh/Desktop/dbpedia_1k_s (1)/Seralised/FullDS/Uniques_Removed/'"
      ]
     },
     "execution_count": 25,
     "metadata": {},
     "output_type": "execute_result"
    }
   ],
   "source": [
    "path = os.getcwd()+'/Uniques_Removed/'\n",
    "path"
   ]
  },
  {
   "cell_type": "code",
   "execution_count": 26,
   "metadata": {},
   "outputs": [
    {
     "name": "stdout",
     "output_type": "stream",
     "text": [
      "All the files are now saved inside Uniques_Removed folder\n"
     ]
    }
   ],
   "source": [
    "df_aux_ns_d.to_csv(path+'aux_ns',sep='\\t', header=False, index=False, encoding = \"utf-8\")\n",
    "df_aux_s_d.to_csv(path+'aux_s',sep='\\t', header=False, index=False, encoding = \"utf-8\")\n",
    "# df_test_d.to_csv(path+'test',sep='\\t', header=False, index=False, encoding = \"utf-8\") # Not doing anything to test\n",
    "df_train_ns_d.to_csv(path+'train_ns',sep='\\t', header=False, index=False, encoding = \"utf-8\")\n",
    "df_train_s_d.to_csv(path+'train_s',sep='\\t', header=False, index=False, encoding = \"utf-8\")\n",
    "df_val_ns_d.to_csv(path+'val_ns',sep='\\t', header=False, index=False, encoding = \"utf-8\")\n",
    "df_val_s_d.to_csv(path+'val_s',sep='\\t', header=False, index=False, encoding = \"utf-8\")\n",
    "\n",
    "print(\"All the files are now saved inside Uniques_Removed folder\")"
   ]
  },
  {
   "cell_type": "code",
   "execution_count": null,
   "metadata": {},
   "outputs": [],
   "source": []
  },
  {
   "cell_type": "code",
   "execution_count": null,
   "metadata": {},
   "outputs": [],
   "source": []
  }
 ],
 "metadata": {
  "kernelspec": {
   "display_name": "Python 3",
   "language": "python",
   "name": "python3"
  },
  "language_info": {
   "codemirror_mode": {
    "name": "ipython",
    "version": 3
   },
   "file_extension": ".py",
   "mimetype": "text/x-python",
   "name": "python",
   "nbconvert_exporter": "python",
   "pygments_lexer": "ipython3",
   "version": "3.6.5"
  }
 },
 "nbformat": 4,
 "nbformat_minor": 2
}
