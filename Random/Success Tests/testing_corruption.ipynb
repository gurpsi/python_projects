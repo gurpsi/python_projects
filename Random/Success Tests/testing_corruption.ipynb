{
 "cells": [
  {
   "cell_type": "code",
   "execution_count": 1,
   "metadata": {},
   "outputs": [],
   "source": [
    "import pandas as pd\n",
    "import numpy as np\n",
    "import pathlib\n",
    "import os\n",
    "import random\n",
    "from sklearn.utils import check_random_state"
   ]
  },
  {
   "cell_type": "code",
   "execution_count": 2,
   "metadata": {},
   "outputs": [],
   "source": [
    "df_train = pd.read_csv(\"training_1000.nt\",sep = ' ', header = None)\n",
    "df_unseen = pd.read_csv(\"unseen_entities_1000.txt\",sep = ' ', header = None)\n",
    "df_val = pd.read_csv(\"validation_1000.nt\",sep = ' ', header = None)\n",
    "df_test = pd.read_csv(\"test_1000.nt\",sep = ' ', header = None)\n",
    "df_aux = pd.read_csv(\"auxiliary_1000.nt\",sep = ' ', header = None)"
   ]
  },
  {
   "cell_type": "code",
   "execution_count": 3,
   "metadata": {},
   "outputs": [
    {
     "name": "stdout",
     "output_type": "stream",
     "text": [
      "df_train.shape (129743, 4)\n",
      "df_unseen.shape (1000, 1)\n",
      "df_val.shape (5000, 4)\n",
      "df_test.shape (1000, 4)\n",
      "df_aux.shape (10529, 4)\n"
     ]
    }
   ],
   "source": [
    "print(\"df_train.shape\",df_train.shape)\n",
    "print(\"df_unseen.shape\",df_unseen.shape)\n",
    "print(\"df_val.shape\",df_val.shape)\n",
    "print(\"df_test.shape\",df_test.shape)\n",
    "print(\"df_aux.shape\",df_aux.shape)"
   ]
  },
  {
   "cell_type": "code",
   "execution_count": 4,
   "metadata": {},
   "outputs": [],
   "source": [
    "def create_mappings(X):\n",
    "    unique_ent = np.unique(np.concatenate((X[:, 0], X[:, 2])))\n",
    "    unique_rel = np.unique(X[:, 1])\n",
    "    ent_count = len(unique_ent)\n",
    "    rel_count = len(unique_rel)\n",
    "    rel_to_idx = dict(zip(unique_rel, range(rel_count)))\n",
    "    ent_to_idx = dict(zip(unique_ent, range(ent_count)))\n",
    "    return rel_to_idx, ent_to_idx"
   ]
  },
  {
   "cell_type": "code",
   "execution_count": 5,
   "metadata": {},
   "outputs": [],
   "source": [
    "def to_idx(X, ent_to_idx=None, rel_to_idx=None):\n",
    "    \n",
    "    x_idx_s = np.vectorize(ent_to_idx.get)(X[:, 0])\n",
    "    x_idx_p = np.vectorize(rel_to_idx.get)(X[:, 1])\n",
    "    x_idx_o = np.vectorize(ent_to_idx.get)(X[:, 2])\n",
    "\n",
    "    return np.dstack([x_idx_s, x_idx_p, x_idx_o]).reshape((-1, 3))"
   ]
  },
  {
   "cell_type": "code",
   "execution_count": 6,
   "metadata": {},
   "outputs": [],
   "source": [
    "def load_from_csv(folder_name, file_name, sep=' ', header=None):\n",
    "    df = pd.read_csv(os.path.join(path, file_name),\n",
    "                     sep=sep,\n",
    "                     header=header,\n",
    "                     names=None,\n",
    "                     dtype=str)\n",
    "\n",
    "    df = df.drop_duplicates()\n",
    "    return df.as_matrix()"
   ]
  },
  {
   "cell_type": "code",
   "execution_count": 7,
   "metadata": {},
   "outputs": [
    {
     "name": "stderr",
     "output_type": "stream",
     "text": [
      "/Users/gurpreet.ag.singh/anaconda3/lib/python3.6/site-packages/ipykernel_launcher.py:9: FutureWarning: Method .as_matrix will be removed in a future version. Use .values instead.\n",
      "  if __name__ == '__main__':\n"
     ]
    }
   ],
   "source": [
    "path = os.getcwd()\n",
    "train = load_from_csv(path,'training_1000.nt')\n",
    "aux = load_from_csv(path,'auxiliary_1000.nt')\n",
    "val = load_from_csv(path,'validation_1000.nt')\n",
    "# unseen = load_from_csv(path,'unseen_entities_1000.txt')\n",
    "test = load_from_csv(path,'test_1000.nt')"
   ]
  },
  {
   "cell_type": "code",
   "execution_count": 8,
   "metadata": {},
   "outputs": [
    {
     "data": {
      "text/plain": [
       "array([['<http://dbpedia.org/resource/Norris_Brown>',\n",
       "        '<http://dbpedia.org/ontology/birthPlace>',\n",
       "        '<http://dbpedia.org/resource/Iowa>', '.'],\n",
       "       ['<http://dbpedia.org/resource/Julia_(Beatles_song)__Julia__1>',\n",
       "        '<http://dbpedia.org/ontology/previousWork>',\n",
       "        '<http://dbpedia.org/resource/Got_to_Get_You_into_My_Life>', '.'],\n",
       "       ['<http://dbpedia.org/resource/William_Toomer>',\n",
       "        '<http://dbpedia.org/ontology/restingPlace>',\n",
       "        '<http://dbpedia.org/resource/Chicago>', '.'],\n",
       "       ...,\n",
       "       ['<http://dbpedia.org/resource/I_Will_Follow>',\n",
       "        '<http://dbpedia.org/ontology/recordLabel>',\n",
       "        '<http://dbpedia.org/resource/Columbia_Records>', '.'],\n",
       "       ['<http://dbpedia.org/resource/Laurie_Cunningham>',\n",
       "        '<http://dbpedia.org/ontology/team>',\n",
       "        '<http://dbpedia.org/resource/Wimbledon_F.C.>', '.'],\n",
       "       ['<http://dbpedia.org/resource/Eugene_Goldwasser>',\n",
       "        '<http://dbpedia.org/ontology/birthPlace>',\n",
       "        '<http://dbpedia.org/resource/Brooklyn>', '.']], dtype=object)"
      ]
     },
     "execution_count": 8,
     "metadata": {},
     "output_type": "execute_result"
    }
   ],
   "source": [
    "test"
   ]
  },
  {
   "cell_type": "code",
   "execution_count": 9,
   "metadata": {},
   "outputs": [],
   "source": [
    "vocab = np.concatenate((train,aux,val))"
   ]
  },
  {
   "cell_type": "code",
   "execution_count": 10,
   "metadata": {},
   "outputs": [],
   "source": [
    "rel_to_idx, ent_to_idx = create_mappings(vocab)\n",
    "\n",
    "train = to_idx(train , ent_to_idx, rel_to_idx)\n",
    "aux = to_idx(aux, ent_to_idx, rel_to_idx)\n",
    "val = to_idx(val, ent_to_idx, rel_to_idx)\n",
    "test = to_idx(test, ent_to_idx, rel_to_idx)"
   ]
  },
  {
   "cell_type": "code",
   "execution_count": 11,
   "metadata": {},
   "outputs": [],
   "source": [
    "def generate_corruptions_for_fit(X, ent_to_idx=None, eta=1, rnd=None):\n",
    "\n",
    "    all_entities = list(ent_to_idx.values())\n",
    "    X_corr = []\n",
    "    for x in X:\n",
    "        for i in range(eta):\n",
    "            e = all_entities[rnd.randint(0, len(all_entities) - 1)]\n",
    "            if np.asscalar(rnd.rand(1, 1)) > 0.5:\n",
    "                X_corr.append([e, x[1], x[2]])\n",
    "            else:\n",
    "                X_corr.append([x[0], x[1], e])\n",
    "\n",
    "    return np.asarray(X_corr).reshape(-1, 3)"
   ]
  },
  {
   "cell_type": "code",
   "execution_count": 12,
   "metadata": {},
   "outputs": [
    {
     "data": {
      "text/plain": [
       "[array([[50276,    32, 33012],\n",
       "        [37808,   279, 28351],\n",
       "        [74408,   305, 15365],\n",
       "        ...,\n",
       "        [32060,   293, 16957],\n",
       "        [40874,   359, 74561],\n",
       "        [23768,    32, 12779]])]"
      ]
     },
     "execution_count": 12,
     "metadata": {},
     "output_type": "execute_result"
    }
   ],
   "source": [
    "X_batches = np.array_split(test, 1)\n",
    "X_batches"
   ]
  },
  {
   "cell_type": "code",
   "execution_count": 13,
   "metadata": {},
   "outputs": [
    {
     "data": {
      "text/plain": [
       "array([[50276,    32, 14000],\n",
       "       [37808,   279, 22637],\n",
       "       [74408,   305, 55366],\n",
       "       ...,\n",
       "       [ 8269,   293, 16957],\n",
       "       [40874,   359, 35044],\n",
       "       [23768,    32, 49095]])"
      ]
     },
     "execution_count": 13,
     "metadata": {},
     "output_type": "execute_result"
    }
   ],
   "source": [
    "neg_test = []\n",
    "rnd = check_random_state(50)\n",
    "for j in range(1):\n",
    "    X_neg_b = generate_corruptions_for_fit(X_batches[j], eta=1, rnd = rnd, ent_to_idx = ent_to_idx)\n",
    "    neg_test.append(X_neg_b)\n",
    "neg_test[0]"
   ]
  },
  {
   "cell_type": "code",
   "execution_count": 14,
   "metadata": {},
   "outputs": [
    {
     "data": {
      "text/plain": [
       "[array([[26138,   142, 54185],\n",
       "        [19658,    13,  5618],\n",
       "        [28082,    18, 67403],\n",
       "        ...,\n",
       "        [25329,   299, 25331],\n",
       "        [51581,    89, 49535],\n",
       "        [20113,   193, 45131]])]"
      ]
     },
     "execution_count": 14,
     "metadata": {},
     "output_type": "execute_result"
    }
   ],
   "source": [
    "Y_batches = np.array_split(val, 1)\n",
    "Y_batches"
   ]
  },
  {
   "cell_type": "code",
   "execution_count": 15,
   "metadata": {},
   "outputs": [
    {
     "data": {
      "text/plain": [
       "array([[26138,   142, 14000],\n",
       "       [19658,    13, 22637],\n",
       "       [28082,    18, 55366],\n",
       "       ...,\n",
       "       [25329,   299, 46392],\n",
       "       [51581,    89, 19586],\n",
       "       [20113,   193, 35223]])"
      ]
     },
     "execution_count": 15,
     "metadata": {},
     "output_type": "execute_result"
    }
   ],
   "source": [
    "neg_val = []\n",
    "rnd = check_random_state(50)\n",
    "for j in range(1):\n",
    "    Y_neg_b = generate_corruptions_for_fit(Y_batches[j], eta=1, rnd = rnd, ent_to_idx = ent_to_idx)\n",
    "    neg_val.append(Y_neg_b)\n",
    "neg_val[0]"
   ]
  },
  {
   "cell_type": "code",
   "execution_count": 16,
   "metadata": {},
   "outputs": [
    {
     "name": "stdout",
     "output_type": "stream",
     "text": [
      "A New Directory is created, named: 'with_negatives_test_val'\n"
     ]
    }
   ],
   "source": [
    "path = os.getcwd()\n",
    "pathlib.Path(path+'/with_negatives_test_val').mkdir(parents=True, exist_ok=True)\n",
    "print(\"A New Directory is created, named: 'with_negatives_test_val'\")"
   ]
  },
  {
   "cell_type": "code",
   "execution_count": 17,
   "metadata": {},
   "outputs": [
    {
     "data": {
      "text/plain": [
       "'/Users/gurpreet.ag.singh/Desktop/dbpedia_1k_s (1)/schema and not schama'"
      ]
     },
     "execution_count": 17,
     "metadata": {},
     "output_type": "execute_result"
    }
   ],
   "source": [
    "path"
   ]
  },
  {
   "cell_type": "code",
   "execution_count": 18,
   "metadata": {},
   "outputs": [
    {
     "data": {
      "text/plain": [
       "numpy.ndarray"
      ]
     },
     "execution_count": 18,
     "metadata": {},
     "output_type": "execute_result"
    }
   ],
   "source": [
    "type(neg_test[0])"
   ]
  },
  {
   "cell_type": "code",
   "execution_count": 19,
   "metadata": {},
   "outputs": [],
   "source": [
    "df_test = pd.DataFrame(neg_test[0],index=None, columns=None)\n",
    "df_val = pd.DataFrame(neg_val[0],index=None, columns=None)"
   ]
  },
  {
   "cell_type": "code",
   "execution_count": 20,
   "metadata": {},
   "outputs": [],
   "source": [
    "path = os.getcwd()+'/with_negatives_test_val/'\n",
    "df_test.to_csv(path+'test_neg',sep='\\t', header=False, index=False, encoding = \"utf-8\")\n",
    "df_val.to_csv(path+'val_neg',sep='\\t', header=False, index=False, encoding = \"utf-8\")"
   ]
  },
  {
   "cell_type": "markdown",
   "metadata": {},
   "source": [
    "## ADDING 0, indicating all these are false set."
   ]
  },
  {
   "cell_type": "code",
   "execution_count": 21,
   "metadata": {},
   "outputs": [
    {
     "data": {
      "text/plain": [
       "'/Users/gurpreet.ag.singh/Desktop/dbpedia_1k_s (1)/schema and not schama/with_negatives_test_val/'"
      ]
     },
     "execution_count": 21,
     "metadata": {},
     "output_type": "execute_result"
    }
   ],
   "source": [
    "path"
   ]
  },
  {
   "cell_type": "code",
   "execution_count": 22,
   "metadata": {},
   "outputs": [],
   "source": [
    "val_neg = np.genfromtxt(path+\"val_neg\", dtype='int')\n",
    "test_neg = np.genfromtxt(path+\"test_neg\", dtype='int')"
   ]
  },
  {
   "cell_type": "code",
   "execution_count": 23,
   "metadata": {},
   "outputs": [
    {
     "name": "stdout",
     "output_type": "stream",
     "text": [
      "val shape: (5000, 3)\n",
      "test shape: (1000, 3)\n"
     ]
    }
   ],
   "source": [
    "print(\"val shape:\", val_neg.shape)\n",
    "print(\"test shape:\", test_neg.shape)"
   ]
  },
  {
   "cell_type": "code",
   "execution_count": 24,
   "metadata": {},
   "outputs": [],
   "source": [
    "val_zeros = np.zeros((5000,1), dtype=int)\n",
    "test_zeros = np.zeros((1000,1), dtype=int)"
   ]
  },
  {
   "cell_type": "code",
   "execution_count": 25,
   "metadata": {},
   "outputs": [],
   "source": [
    "val_n = np.concatenate((val_neg,val_zeros),axis=1)\n",
    "test_n = np.concatenate((test_neg,test_zeros),axis=1)"
   ]
  },
  {
   "cell_type": "code",
   "execution_count": 26,
   "metadata": {},
   "outputs": [],
   "source": [
    "np.savetxt('val_negatives', val_n, delimiter=\"\\t\", fmt=\"%d\") \n",
    "np.savetxt('test_negatives', test_n, delimiter=\"\\t\", fmt=\"%d\")"
   ]
  },
  {
   "cell_type": "code",
   "execution_count": null,
   "metadata": {},
   "outputs": [],
   "source": []
  }
 ],
 "metadata": {
  "kernelspec": {
   "display_name": "Python 3",
   "language": "python",
   "name": "python3"
  },
  "language_info": {
   "codemirror_mode": {
    "name": "ipython",
    "version": 3
   },
   "file_extension": ".py",
   "mimetype": "text/x-python",
   "name": "python",
   "nbconvert_exporter": "python",
   "pygments_lexer": "ipython3",
   "version": "3.6.5"
  }
 },
 "nbformat": 4,
 "nbformat_minor": 2
}
