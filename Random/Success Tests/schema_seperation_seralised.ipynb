{
 "cells": [
  {
   "cell_type": "code",
   "execution_count": 1,
   "metadata": {},
   "outputs": [],
   "source": [
    "import pandas as pd\n",
    "import numpy as np\n",
    "import pathlib\n",
    "import os"
   ]
  },
  {
   "cell_type": "code",
   "execution_count": 9,
   "metadata": {},
   "outputs": [],
   "source": [
    "df_train = pd.read_csv(\"train\",sep = '\\t', header = None, dtype = str)\n",
    "# df_unseen = pd.read_csv(\"unseen_entities_1000.txt\",sep = '\\t', header = None)\n",
    "df_val_n = pd.read_csv(\"val_negatives\",sep = '\\t', header = None, dtype = str)\n",
    "df_val_p = pd.read_csv(\"val_positives\",sep = '\\t', header = None, dtype = str)\n",
    "df_test_n = pd.read_csv(\"test_negatives\",sep = '\\t', header = None, dtype = str)\n",
    "df_test_p = pd.read_csv(\"test_positives\",sep = '\\t', header = None, dtype = str)\n",
    "df_aux = pd.read_csv(\"aux\",sep = '\\t', header = None, dtype = str)"
   ]
  },
  {
   "cell_type": "code",
   "execution_count": 10,
   "metadata": {},
   "outputs": [
    {
     "name": "stdout",
     "output_type": "stream",
     "text": [
      "df_train.shape (129743, 3)\n",
      "df_val_n.shape (5000, 4)\n",
      "df_val_p.shape (5000, 4)\n",
      "df_test_n.shape (1000, 4)\n",
      "df_test_p.shape (1000, 4)\n",
      "df_aux.shape (10529, 3)\n"
     ]
    }
   ],
   "source": [
    "print(\"df_train.shape\",df_train.shape)\n",
    "# print(\"df_unseen.shape\",df_unseen.shape)\n",
    "print(\"df_val_n.shape\",df_val_n.shape)\n",
    "print(\"df_val_p.shape\",df_val_p.shape)\n",
    "print(\"df_test_n.shape\",df_test_n.shape)\n",
    "print(\"df_test_p.shape\",df_test_p.shape)\n",
    "print(\"df_aux.shape\",df_aux.shape)"
   ]
  },
  {
   "cell_type": "code",
   "execution_count": 16,
   "metadata": {},
   "outputs": [],
   "source": [
    "val_frames = [df_val_n, df_val_p]\n",
    "test_frames = [df_test_n, df_test_p]"
   ]
  },
  {
   "cell_type": "code",
   "execution_count": 17,
   "metadata": {},
   "outputs": [],
   "source": [
    "val_result = pd.concat(val_frames)\n",
    "test_result = pd.concat(test_frames)"
   ]
  },
  {
   "cell_type": "code",
   "execution_count": 18,
   "metadata": {},
   "outputs": [
    {
     "name": "stdout",
     "output_type": "stream",
     "text": [
      "df_train.shape (129743, 3)\n",
      "val_result.shape (10000, 4)\n",
      "test_result.shape (2000, 4)\n",
      "df_aux.shape (10529, 3)\n"
     ]
    }
   ],
   "source": [
    "print(\"df_train.shape\",df_train.shape)\n",
    "print(\"val_result.shape\",val_result.shape)\n",
    "print(\"test_result.shape\",test_result.shape)\n",
    "print(\"df_aux.shape\",df_aux.shape)"
   ]
  },
  {
   "cell_type": "code",
   "execution_count": 19,
   "metadata": {},
   "outputs": [],
   "source": [
    "# string = 'http://www.w3.org/1999/02/22-rdf-syntax-ns#type'\n",
    "string = '380'\n",
    "df_train_s = df_train[df_train[1].str.match(string)]\n",
    "df_aux_s = df_aux[df_aux[1].str.match(string)]\n",
    "df_val_s = val_result[val_result[1].str.match(string)]"
   ]
  },
  {
   "cell_type": "code",
   "execution_count": 20,
   "metadata": {},
   "outputs": [
    {
     "name": "stdout",
     "output_type": "stream",
     "text": [
      "df_train_s.shape (24779, 3)\n",
      "df_aux_s.shape (4474, 3)\n",
      "df_val_s.shape (3446, 4)\n"
     ]
    }
   ],
   "source": [
    "print(\"df_train_s.shape\",df_train_s.shape)\n",
    "print(\"df_aux_s.shape\",df_aux_s.shape)\n",
    "print(\"df_val_s.shape\",df_val_s.shape)"
   ]
  },
  {
   "cell_type": "code",
   "execution_count": 24,
   "metadata": {},
   "outputs": [],
   "source": [
    "# creating a dataframe of non schema entities as df_ns\n",
    "df_train_ns = df_train.merge(df_train_s, indicator=True, how=\"left\")[lambda x: x._merge=='left_only'].drop('_merge',1)\n",
    "df_aux_ns = df_aux.merge(df_aux_s, indicator=True, how=\"left\")[lambda x: x._merge=='left_only'].drop('_merge',1)\n",
    "df_val_ns = val_result.merge(df_val_s, indicator=True, how=\"left\")[lambda x: x._merge=='left_only'].drop('_merge',1)"
   ]
  },
  {
   "cell_type": "code",
   "execution_count": 25,
   "metadata": {},
   "outputs": [
    {
     "name": "stdout",
     "output_type": "stream",
     "text": [
      "df_train_ns.shape (104964, 3)\n",
      "df_val_ns.shape (6554, 4)\n",
      "df_aux_ns.shape (6055, 3)\n"
     ]
    }
   ],
   "source": [
    "print(\"df_train_ns.shape\",df_train_ns.shape)\n",
    "print(\"df_val_ns.shape\",df_val_ns.shape)\n",
    "print(\"df_aux_ns.shape\",df_aux_ns.shape)"
   ]
  },
  {
   "cell_type": "code",
   "execution_count": 27,
   "metadata": {},
   "outputs": [
    {
     "name": "stdout",
     "output_type": "stream",
     "text": [
      "A New Directory is created, named: 'FullDS'\n"
     ]
    }
   ],
   "source": [
    "path = os.getcwd()\n",
    "pathlib.Path(path+'/FullDS').mkdir(parents=True, exist_ok=True)\n",
    "print(\"A New Directory is created, named: 'FullDS'\")"
   ]
  },
  {
   "cell_type": "code",
   "execution_count": 28,
   "metadata": {},
   "outputs": [],
   "source": [
    "# Writing things on to the file\n",
    "path = os.getcwd()+'/FullDS/'\n",
    "df_train_ns.to_csv(path+'train_ns',sep='\\t', header=False, index=False, encoding = \"utf-8\")\n",
    "df_train_s.to_csv(path+'train_s',sep='\\t', header=False, index=False, encoding = \"utf-8\")\n",
    "\n",
    "df_aux_ns.to_csv(path+'aux_ns',sep='\\t', header=False, index=False, encoding = \"utf-8\")\n",
    "df_aux_s.to_csv(path+'aux_s',sep='\\t', header=False, index=False, encoding = \"utf-8\")\n",
    "\n",
    "df_val_ns.to_csv(path+'val_ns',sep='\\t', header=False, index=False, encoding = \"utf-8\")\n",
    "df_val_s.to_csv(path+'val_s',sep='\\t', header=False, index=False, encoding = \"utf-8\")\n",
    "\n",
    "test_result.to_csv(path+'test',sep='\\t', header=False, index=False, encoding = \"utf-8\")"
   ]
  },
  {
   "cell_type": "code",
   "execution_count": null,
   "metadata": {},
   "outputs": [],
   "source": []
  },
  {
   "cell_type": "code",
   "execution_count": null,
   "metadata": {},
   "outputs": [],
   "source": []
  }
 ],
 "metadata": {
  "kernelspec": {
   "display_name": "Python 3",
   "language": "python",
   "name": "python3"
  },
  "language_info": {
   "codemirror_mode": {
    "name": "ipython",
    "version": 3
   },
   "file_extension": ".py",
   "mimetype": "text/x-python",
   "name": "python",
   "nbconvert_exporter": "python",
   "pygments_lexer": "ipython3",
   "version": "3.6.5"
  }
 },
 "nbformat": 4,
 "nbformat_minor": 2
}
